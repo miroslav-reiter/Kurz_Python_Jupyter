{
 "cells": [
  {
   "cell_type": "code",
   "execution_count": 17,
   "metadata": {},
   "outputs": [],
   "source": [
    "# List Comprehension"
   ]
  },
  {
   "cell_type": "code",
   "execution_count": 18,
   "metadata": {},
   "outputs": [],
   "source": [
    "### Syntaktická konštrukcia, ktorá používa 1-N vnorených cyklov s podmienkami. \n",
    "### Bez nej dostaneme rozsiahlejší a menej prehľadný kód, ktorý používa rekurzívne/cyklické procedúry"
   ]
  },
  {
   "cell_type": "markdown",
   "metadata": {},
   "source": [
    "## 01. Iterovanie po znakoch"
   ]
  },
  {
   "cell_type": "code",
   "execution_count": 24,
   "metadata": {},
   "outputs": [
    {
     "name": "stdout",
     "output_type": "stream",
     "text": [
      "['H', 'e', 'l', 'l', 'o']\n",
      "['H', 'e', 'l', 'l', 'o']\n"
     ]
    }
   ],
   "source": [
    "h_letters = [letter for letter in 'Hello' ]\n",
    "print(h_letters)\n",
    "\n",
    "# Ukážka cez Lambdu\n",
    "letters = list(map(lambda x: x, 'Hello'))\n",
    "print(letters)"
   ]
  },
  {
   "cell_type": "markdown",
   "metadata": {},
   "source": [
    "## 02. List Comprehension aj s podmienkami"
   ]
  },
  {
   "cell_type": "code",
   "execution_count": 25,
   "metadata": {},
   "outputs": [
    {
     "name": "stdout",
     "output_type": "stream",
     "text": [
      "[0, 10, 20, 30, 40, 50, 60, 70, 80, 90]\n"
     ]
    }
   ],
   "source": [
    "# Delitelnost 2 a 5\n",
    "num_zoznam = [x for x in range(100) if x % 2 == 0 if x % 5 == 0]\n",
    "print(num_zoznam)"
   ]
  },
  {
   "cell_type": "markdown",
   "metadata": {},
   "source": [
    "## 03. Transponovanie matice (Výmena riadky/stlpce)"
   ]
  },
  {
   "cell_type": "code",
   "execution_count": 29,
   "metadata": {},
   "outputs": [
    {
     "name": "stdout",
     "output_type": "stream",
     "text": [
      "[[1, 3, 5, 7], [2, 4, 6, 8]]\n",
      "[[1, 5], [2, 6], [3, 8], [4, 7], [5, 9]]\n"
     ]
    }
   ],
   "source": [
    "# List Comprehension\n",
    "zoznam = [[1, 2], [3,4], [5,6], [7,8]]\n",
    "transponovany_zoznam = [[riadok[i] for riadok in zoznam] for i in range(2)]\n",
    "print (transponovany_zoznam)\n",
    "\n",
    "# Klasický spôsob cez cykly for\n",
    "transponovany_zoznam = []\n",
    "zoznam = [[1, 2, 3, 4, 5], [5, 6, 8, 7, 9]]\n",
    "\n",
    "for i in range(len(zoznam[0])):\n",
    "    transponovany_riadok = []\n",
    "\n",
    "    for riadok in zoznam:\n",
    "        transponovany_riadok.append(riadok[i])\n",
    "    transponovany_zoznam.append(transponovany_riadok)\n",
    "\n",
    "print(transponovany_zoznam)"
   ]
  },
  {
   "cell_type": "markdown",
   "metadata": {},
   "source": [
    "## 04. Vykreslovanie patternov"
   ]
  },
  {
   "cell_type": "code",
   "execution_count": 30,
   "metadata": {
    "scrolled": false
   },
   "outputs": [
    {
     "name": "stdout",
     "output_type": "stream",
     "text": [
      "\n",
      "P\n",
      "Py\n",
      "Pyt\n",
      "Pyth\n",
      "Pytho\n",
      "Python\n",
      "Python\n",
      "Pytho\n",
      "Pyth\n",
      "Pyt\n",
      "Py\n",
      "P\n",
      "\n"
     ]
    }
   ],
   "source": [
    "string = \"Python\"\n",
    "# List Comprehension\n",
    "pattern = [string[:i] for i in range(len(string)+1)]\n",
    "print(*(pattern+pattern[::-1]), sep=\"\\n\")"
   ]
  },
  {
   "cell_type": "markdown",
   "metadata": {},
   "source": [
    "## 05. Quicksort"
   ]
  },
  {
   "cell_type": "code",
   "execution_count": 21,
   "metadata": {},
   "outputs": [
    {
     "name": "stdout",
     "output_type": "stream",
     "text": [
      "Povodny (nezoradeny) zoznam -->  [8, 1, 6, 1, 9, 2, 5, 6, 3, 1, 2, 3, 5]\n",
      "Zotriedeny zoznam --> \t\t [1, 1, 1, 2, 2, 3, 3, 5, 5, 6, 6, 8, 9]\n"
     ]
    }
   ],
   "source": [
    "def quicksort(zoznam):\n",
    "    if len(zoznam) <= 1:\n",
    "        return zoznam\n",
    "    else:\n",
    "        # Prvý prvok triedeného zoznamu bude Pivot\n",
    "        pivot = zoznam[0] \n",
    "        # Ostatné triedené prvky okrem Pivot\n",
    "        ostatne = zoznam[1:] \n",
    "        # Lilliputs + Pivot + Maxiputs\n",
    "    return quicksort([x for x in ostatne if x < pivot]) + [pivot] + quicksort([x for x in ostatne if x >= pivot])\n",
    "\n",
    "zoznam = [8,1,6,1,9,2,5,6,3,1,2,3,5]\n",
    "zotriedeny_zoznam = quicksort(zoznam)\n",
    "\n",
    "print(\"Povodny (nezoradeny) zoznam --> \", zoznam)\n",
    "print(\"Zotriedeny zoznam --> \\t\\t\", zotriedeny_zoznam)"
   ]
  },
  {
   "cell_type": "code",
   "execution_count": null,
   "metadata": {},
   "outputs": [],
   "source": []
  }
 ],
 "metadata": {
  "kernelspec": {
   "display_name": "Python 3",
   "language": "python",
   "name": "python3"
  },
  "language_info": {
   "codemirror_mode": {
    "name": "ipython",
    "version": 3
   },
   "file_extension": ".py",
   "mimetype": "text/x-python",
   "name": "python",
   "nbconvert_exporter": "python",
   "pygments_lexer": "ipython3",
   "version": "3.8.5"
  }
 },
 "nbformat": 4,
 "nbformat_minor": 4
}
