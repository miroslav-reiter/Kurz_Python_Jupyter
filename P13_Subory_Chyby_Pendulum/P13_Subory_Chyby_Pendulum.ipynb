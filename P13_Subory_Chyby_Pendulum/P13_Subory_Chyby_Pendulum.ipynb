{
 "cells": [
  {
   "cell_type": "markdown",
   "metadata": {},
   "source": [
    "# 🐍 Kurz Python Jupyter - 13. časť\n"
   ]
  },
  {
   "cell_type": "markdown",
   "metadata": {},
   "source": [
    "## I. Práca so súbormi (File handling)"
   ]
  },
  {
   "cell_type": "code",
   "execution_count": 13,
   "metadata": {},
   "outputs": [
    {
     "name": "stdout",
     "output_type": "stream",
     "text": [
      "<_io.TextIOWrapper name='data.txt' mode='rt' encoding='UTF-8'>\n",
      "<class '_io.TextIOWrapper'>\n",
      "Dnes je pekný deň.\n",
      "\n",
      "Adam\tSangala\t\tTrnava\n"
     ]
    }
   ],
   "source": [
    "# Otvoriť súbor\n",
    "# r - read - rezim na citanie suboru\n",
    "# t - textový súbor\n",
    "subor = open(\"data.txt\",\"rt\")\n",
    "print(subor)\n",
    "print(type(subor))\n",
    "\n",
    "print(subor.readline())\n",
    "print(subor.readline())\n",
    "\n",
    "subor.close()\n",
    "\n",
    "\n",
    "\n",
    "\n"
   ]
  },
  {
   "cell_type": "code",
   "execution_count": 37,
   "metadata": {},
   "outputs": [
    {
     "name": "stdout",
     "output_type": "stream",
     "text": [
      "55\n",
      "Sme uspesne zapisali...\n"
     ]
    }
   ],
   "source": [
    "import datetime\n",
    "\n",
    "# w - write - rezim na zapis do suboru\n",
    "# a - append - rezim na zapis do suboru\n",
    "data = open(\"data2.txt\",\"at\")\n",
    "dnes = datetime.datetime.now()\n",
    "\n",
    "print(data.write(\"\\n\" + str(dnes) + \" - Som zapisal do suboru...\\n\"))\n",
    "print(\"Sme uspesne zapisali...\")\n",
    "\n",
    "data.close()"
   ]
  },
  {
   "cell_type": "code",
   "execution_count": 34,
   "metadata": {},
   "outputs": [
    {
     "name": "stdout",
     "output_type": "stream",
     "text": [
      "<module 'os' from 'C:\\\\ProgramData\\\\Anaconda3\\\\lib\\\\os.py'>\n"
     ]
    },
    {
     "ename": "FileNotFoundError",
     "evalue": "[WinError 2] The system cannot find the file specified: 'data2.txt'",
     "output_type": "error",
     "traceback": [
      "\u001b[1;31m---------------------------------------------------------------------------\u001b[0m",
      "\u001b[1;31mFileNotFoundError\u001b[0m                         Traceback (most recent call last)",
      "\u001b[1;32mC:\\Users\\ADMINI~1\\AppData\\Local\\Temp/ipykernel_7244/1264632065.py\u001b[0m in \u001b[0;36m<module>\u001b[1;34m\u001b[0m\n\u001b[0;32m      2\u001b[0m \u001b[0mprint\u001b[0m\u001b[1;33m(\u001b[0m\u001b[0mos\u001b[0m\u001b[1;33m)\u001b[0m\u001b[1;33m\u001b[0m\u001b[1;33m\u001b[0m\u001b[0m\n\u001b[0;32m      3\u001b[0m \u001b[1;31m# print(dir(os))\u001b[0m\u001b[1;33m\u001b[0m\u001b[1;33m\u001b[0m\u001b[0m\n\u001b[1;32m----> 4\u001b[1;33m \u001b[0mos\u001b[0m\u001b[1;33m.\u001b[0m\u001b[0mremove\u001b[0m\u001b[1;33m(\u001b[0m\u001b[1;34m\"data2.txt\"\u001b[0m\u001b[1;33m)\u001b[0m\u001b[1;33m\u001b[0m\u001b[1;33m\u001b[0m\u001b[0m\n\u001b[0m\u001b[0;32m      5\u001b[0m \u001b[0mprint\u001b[0m\u001b[1;33m(\u001b[0m\u001b[1;34m\"Som vymazal...\"\u001b[0m\u001b[1;33m)\u001b[0m\u001b[1;33m\u001b[0m\u001b[1;33m\u001b[0m\u001b[0m\n",
      "\u001b[1;31mFileNotFoundError\u001b[0m: [WinError 2] The system cannot find the file specified: 'data2.txt'"
     ]
    }
   ],
   "source": [
    "import os\n",
    "print(os)\n",
    "# print(dir(os))\n",
    "os.remove(\"data2.txt\")\n",
    "print(\"Som vymazal...\")"
   ]
  },
  {
   "cell_type": "code",
   "execution_count": 47,
   "metadata": {},
   "outputs": [
    {
     "name": "stdout",
     "output_type": "stream",
     "text": [
      "Subor aktualne neexistuje... Nic som nezmazal...\n",
      "Priecinok existuje, nic som nevytvoril...\n"
     ]
    }
   ],
   "source": [
    "import os\n",
    "\n",
    "subor = \"data2.txt\"\n",
    "\n",
    "if os.path.exists(subor):\n",
    "    os.remove(subor)\n",
    "    print(\"Som vymazal...\")\n",
    "else:\n",
    "    print(\"Subor aktualne neexistuje... Nic som nezmazal...\")\n",
    "\n",
    "\n",
    "priecinok = \"Tajomstva Nove\"\n",
    "\n",
    "if not os.path.exists(priecinok):\n",
    "    os.mkdir(priecinok)\n",
    "    print(\"Vytvoril som priecinok\")\n",
    "    \n",
    "else:\n",
    "    print(\"Priecinok existuje, nic som nevytvoril...\")"
   ]
  },
  {
   "cell_type": "code",
   "execution_count": 54,
   "metadata": {},
   "outputs": [
    {
     "ename": "FileNotFoundError",
     "evalue": "[Errno 2] No such file or directory: 'zoznam_balickov2.txt'",
     "output_type": "error",
     "traceback": [
      "\u001b[1;31m---------------------------------------------------------------------------\u001b[0m",
      "\u001b[1;31mFileNotFoundError\u001b[0m                         Traceback (most recent call last)",
      "\u001b[1;32mC:\\Users\\ADMINI~1\\AppData\\Local\\Temp/ipykernel_7244/1510887747.py\u001b[0m in \u001b[0;36m<module>\u001b[1;34m\u001b[0m\n\u001b[0;32m      1\u001b[0m \u001b[1;31m# -*- coding: utf-8 -*-\u001b[0m\u001b[1;33m\u001b[0m\u001b[1;33m\u001b[0m\u001b[0m\n\u001b[0;32m      2\u001b[0m \u001b[1;32mtry\u001b[0m\u001b[1;33m:\u001b[0m\u001b[1;33m\u001b[0m\u001b[1;33m\u001b[0m\u001b[0m\n\u001b[1;32m----> 3\u001b[1;33m     \u001b[0msubor\u001b[0m \u001b[1;33m=\u001b[0m \u001b[0mopen\u001b[0m\u001b[1;33m(\u001b[0m\u001b[1;34m\"zoznam_balickov2.txt\"\u001b[0m\u001b[1;33m,\u001b[0m \u001b[0mencoding\u001b[0m\u001b[1;33m=\u001b[0m\u001b[1;34m\"utf-8\"\u001b[0m\u001b[1;33m)\u001b[0m\u001b[1;33m\u001b[0m\u001b[1;33m\u001b[0m\u001b[0m\n\u001b[0m\u001b[0;32m      4\u001b[0m     \u001b[0mprint\u001b[0m\u001b[1;33m(\u001b[0m\u001b[0msubor\u001b[0m\u001b[1;33m)\u001b[0m\u001b[1;33m\u001b[0m\u001b[1;33m\u001b[0m\u001b[0m\n\u001b[0;32m      5\u001b[0m \u001b[1;33m\u001b[0m\u001b[0m\n",
      "\u001b[1;31mFileNotFoundError\u001b[0m: [Errno 2] No such file or directory: 'zoznam_balickov2.txt'"
     ]
    }
   ],
   "source": [
    "# -*- coding: utf-8 -*-\n",
    "try:\n",
    "    subor = open(\"zoznam_balickov2.txt\", encoding=\"utf-8\")\n",
    "    print(subor)\n",
    "except:\n",
    "    print(\"Taky subor aktualne neexistuje...\")\n",
    "finally:\n",
    "    subor.close()\n"
   ]
  },
  {
   "cell_type": "code",
   "execution_count": 57,
   "metadata": {},
   "outputs": [
    {
     "name": "stdout",
     "output_type": "stream",
     "text": [
      "<_io.TextIOWrapper name='zoznam_balickov.txt' mode='at' encoding='utf-8'>\n"
     ]
    }
   ],
   "source": [
    "with open(\"zoznam_balickov.txt\", \"at\", encoding=\"utf-8\") as subor:\n",
    "    print(subor)\n",
    "    subor.write(\"\\n\" + \"Sme uspesne zapisali...\")"
   ]
  },
  {
   "cell_type": "code",
   "execution_count": 60,
   "metadata": {},
   "outputs": [
    {
     "name": "stdout",
     "output_type": "stream",
     "text": [
      "<_io.TextIOWrapper name='zoznam_balickov.txt' mode='r' encoding='utf-8'>\n"
     ]
    }
   ],
   "source": [
    "# textove - .txt, .rtf, .xml, .docx., .sql, .pptx, .xlsx, .csv, .json, .yaml\n",
    "# binarne - .mp4, avi, mkv, mp3, wma, wav, jpg, jpeg, png, gif, bmp\n",
    "\n",
    "try:\n",
    "    # r/rt read + text\n",
    "    subor = open(\"zoznam_balickov.txt\", encoding=\"utf-8\")\n",
    "\n",
    "    # r/rt read + text\n",
    "    subor2 = open(\"zoznam_balickov.txt\", \"rt\", encoding=\"utf-8\")\n",
    "\n",
    "     # wt write + text\n",
    "    subor2 = open(\"zoznam_balickov.txt\", \"wt\", encoding=\"utf-8\")\n",
    "\n",
    "     # r+b aktualizacia + binary\n",
    "    subor2 = open(\"obrazok.jpg\", \"r+b\", encoding=\"utf-8\")\n",
    "\n",
    "    print(subor)\n",
    "except:\n",
    "    print(\"Taky subor aktualne neexistuje...\")\n",
    "finally:\n",
    "    subor.close()"
   ]
  },
  {
   "cell_type": "code",
   "execution_count": 84,
   "metadata": {},
   "outputs": [
    {
     "name": "stdout",
     "output_type": "stream",
     "text": [
      "<_io.TextIOWrapper name='zapisujeme.txt' mode='wt' encoding='utf-8'>\n",
      "Sme uspesne zapisali...Dnes je pekny den...Aj zajtra bude pekny den...Tesime sa na vikend...\n",
      "\n"
     ]
    }
   ],
   "source": [
    "with open(\"zapisujeme.txt\", \"wt\", encoding=\"utf-8\") as subor:\n",
    "    print(subor)\n",
    "    subor.write(\"Sme uspesne zapisali...\")\n",
    "    subor.write(\"Dnes je pekny den...\")\n",
    "    subor.write(\"Aj zajtra bude pekny den...\")\n",
    "    subor.write(\"Tesime sa na vikend...\")\n",
    "\n",
    "with open(\"zapisujeme.txt\", \"rt\", encoding=\"utf-8\") as subor:\n",
    "    for riadok in subor:\n",
    "        print(riadok + \"\\n\")"
   ]
  },
  {
   "cell_type": "markdown",
   "metadata": {},
   "source": [
    "## II. Práca so dátumami a časmi (Datetime) - Pendulum"
   ]
  },
  {
   "cell_type": "code",
   "execution_count": 115,
   "metadata": {},
   "outputs": [
    {
     "name": "stdout",
     "output_type": "stream",
     "text": [
      "Dnes je: 2022-04-20T18:43:19.237637+02:00\n",
      "2022-04-20\n",
      "18:43:19.237637\n",
      "Timezone('Europe/Bratislava')\n",
      "Timezone('Australia/Sydney')\n",
      "2022-04-21T02:43:19.237637+10:00\n",
      "Thu, 21 Apr 22 02:43:19 +1000\n",
      "Thu, 21 Apr 2022 02:43:19 +1000\n",
      "2022-04-21T02:43:19+10:00\n",
      "Thu, 21 Apr 2022 02:43:19 +1000\n",
      "2022-04-21\n",
      "02:43:19\n"
     ]
    }
   ],
   "source": [
    "# !pip install pendulum\n",
    "import pendulum\n",
    "# print(dir(pendulum))\n",
    "\n",
    "dnes = pendulum.now(\"Europe/Bratislava\")\n",
    "print(\"Dnes je:\", dnes)\n",
    "print(dnes.date())\n",
    "print(dnes.time())\n",
    "print(dnes.timezone)\n",
    "\n",
    "dnes = dnes.in_timezone(\"Australia/Sydney\")\n",
    "print(dnes.timezone)\n",
    "\n",
    "print(dnes.to_iso8601_string())\n",
    "print(dnes.to_rfc1036_string())\n",
    "print(dnes.to_rfc1123_string())\n",
    "print(dnes.to_w3c_string())\n",
    "print(dnes.to_rss_string())\n",
    "print(dnes.to_date_string())\n",
    "print(dnes.to_time_string())\n",
    "\n",
    "\n"
   ]
  },
  {
   "cell_type": "code",
   "execution_count": 123,
   "metadata": {},
   "outputs": [
    {
     "name": "stdout",
     "output_type": "stream",
     "text": [
      "1.  2022-04-20T18:47:50.350558+02:00\n",
      "2.  2018-04-17T16:47:50.350558+02:00\n"
     ]
    }
   ],
   "source": [
    "# !pip install pendulum\n",
    "import pendulum\n",
    "# print(dir(pendulum))\n",
    "\n",
    "dnes = pendulum.now(\"Europe/Bratislava\")\n",
    "print(\"1. \", dnes)\n",
    "\n",
    "dnes = dnes.add(days=-3, hours=-2, years=-4)\n",
    "print(\"2. \", dnes)"
   ]
  },
  {
   "cell_type": "code",
   "execution_count": 134,
   "metadata": {},
   "outputs": [
    {
     "name": "stdout",
     "output_type": "stream",
     "text": [
      "425\n",
      "10200\n",
      "60\n",
      "36720000\n",
      "1 year 2 months\n"
     ]
    }
   ],
   "source": [
    "# !pip install pendulum\n",
    "import pendulum\n",
    "# print(dir(pendulum))\n",
    "\n",
    "trvanie = pendulum.Duration(years=1,months=2)\n",
    "\n",
    "print(trvanie.in_days())\n",
    "print(trvanie.in_hours())\n",
    "print(trvanie.in_weeks())\n",
    "print(trvanie.in_seconds())\n",
    "print(trvanie.in_words())"
   ]
  },
  {
   "cell_type": "code",
   "execution_count": 142,
   "metadata": {},
   "outputs": [
    {
     "name": "stdout",
     "output_type": "stream",
     "text": [
      "<Period [2022-04-13T19:02:44.774551+02:00 -> 2022-04-20T19:02:44.774551+02:00]>\n",
      "1\n",
      "2022-04-13T19:02:44.774551+02:00\n",
      "2022-04-14T19:02:44.774551+02:00\n",
      "2022-04-15T19:02:44.774551+02:00\n",
      "2022-04-16T19:02:44.774551+02:00\n",
      "2022-04-17T19:02:44.774551+02:00\n",
      "2022-04-18T19:02:44.774551+02:00\n",
      "2022-04-19T19:02:44.774551+02:00\n",
      "2022-04-20T19:02:44.774551+02:00\n"
     ]
    }
   ],
   "source": [
    "# !pip install pendulum\n",
    "import pendulum\n",
    "# print(dir(pendulum))\n",
    "\n",
    "dnes = pendulum.now()\n",
    "perioda = dnes - dnes.subtract(days = 7)\n",
    "print(perioda)\n",
    "print(perioda.in_weeks())\n",
    "\n",
    "for dnes in perioda:\n",
    "    print(dnes)"
   ]
  }
 ],
 "metadata": {
  "interpreter": {
   "hash": "b3ba2566441a7c06988d0923437866b63cedc61552a5af99d1f4fb67d367b25f"
  },
  "kernelspec": {
   "display_name": "Python 3.9.7 ('base')",
   "language": "python",
   "name": "python3"
  },
  "language_info": {
   "codemirror_mode": {
    "name": "ipython",
    "version": 3
   },
   "file_extension": ".py",
   "mimetype": "text/x-python",
   "name": "python",
   "nbconvert_exporter": "python",
   "pygments_lexer": "ipython3",
   "version": "3.9.7"
  },
  "orig_nbformat": 4
 },
 "nbformat": 4,
 "nbformat_minor": 2
}
