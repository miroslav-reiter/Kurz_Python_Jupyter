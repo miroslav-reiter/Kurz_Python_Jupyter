{
 "cells": [
  {
   "cell_type": "markdown",
   "id": "01f514aa",
   "metadata": {},
   "source": [
    "# 01. Práca so vstupom (# alt + 35)"
   ]
  },
  {
   "cell_type": "code",
   "execution_count": 9,
   "id": "a9199e89",
   "metadata": {},
   "outputs": [
    {
     "name": "stdout",
     "output_type": "stream",
     "text": [
      "Ako sa volas? -> True\n"
     ]
    },
    {
     "data": {
      "text/plain": [
       "'True'"
      ]
     },
     "execution_count": 9,
     "metadata": {},
     "output_type": "execute_result"
    }
   ],
   "source": [
    "input(\"Ako sa volas? -> \")"
   ]
  },
  {
   "cell_type": "markdown",
   "id": "971a3853",
   "metadata": {},
   "source": [
    "# 02. Dátové typy (typy premenných)"
   ]
  },
  {
   "cell_type": "code",
   "execution_count": 13,
   "id": "dc101dc7",
   "metadata": {},
   "outputs": [
    {
     "name": "stdout",
     "output_type": "stream",
     "text": [
      "meno_klient ma typ premennej:  <class 'str'>\n",
      "Ako sa volas? -> Karol\n",
      "Ahoj Karol\n"
     ]
    },
    {
     "data": {
      "text/plain": [
       "int"
      ]
     },
     "execution_count": 13,
     "metadata": {},
     "output_type": "execute_result"
    }
   ],
   "source": [
    "# str (string) - reťazec\n",
    "meno_klient = \"Adam\"\n",
    "print(\"meno_klient ma typ premennej: \", type(meno_klient))\n",
    "\n",
    "meno_klient = input(\"Ako sa volas? -> \")\n",
    "print(\"Ahoj\", meno_klient)"
   ]
  },
  {
   "cell_type": "code",
   "execution_count": 24,
   "id": "aecfcbc8",
   "metadata": {},
   "outputs": [
    {
     "name": "stdout",
     "output_type": "stream",
     "text": [
      "<class 'int'>\n",
      "23\n"
     ]
    }
   ],
   "source": [
    "# int (integer) - celé čísla - Z\n",
    "vek_klient = 23\n",
    "print(type(vek_klient))\n",
    "print(vek_klient)"
   ]
  },
  {
   "cell_type": "code",
   "execution_count": 25,
   "id": "ae5e5417",
   "metadata": {},
   "outputs": [
    {
     "name": "stdout",
     "output_type": "stream",
     "text": [
      "<class 'float'>\n",
      "2389.63\n"
     ]
    }
   ],
   "source": [
    "# float - reálne čísla - R - desatinna bodka .\n",
    "mzda_klient = 2389.63\n",
    "print(type(mzda_klient))\n",
    "print(mzda_klient)"
   ]
  },
  {
   "cell_type": "code",
   "execution_count": 26,
   "id": "5687acfc",
   "metadata": {},
   "outputs": [
    {
     "name": "stdout",
     "output_type": "stream",
     "text": [
      "<class 'bool'>\n",
      "True\n"
     ]
    }
   ],
   "source": [
    "# bool/boolean - logické hodnoty - True (pravda), False (nepravda)\n",
    "status_klient_zenaty = True\n",
    "print(type(status_klient_zenaty))\n",
    "print(status_klient_zenaty)"
   ]
  },
  {
   "cell_type": "code",
   "execution_count": 29,
   "id": "8d92a634",
   "metadata": {},
   "outputs": [
    {
     "name": "stdout",
     "output_type": "stream",
     "text": [
      "<class 'NoneType'>\n",
      "None\n"
     ]
    }
   ],
   "source": [
    "registracia_klient = None\n",
    "print(type(registracia_klient))\n",
    "print(registracia_klient)"
   ]
  },
  {
   "cell_type": "code",
   "execution_count": 30,
   "id": "a5cd191f",
   "metadata": {},
   "outputs": [
    {
     "name": "stdout",
     "output_type": "stream",
     "text": [
      "<class 'complex'>\n"
     ]
    }
   ],
   "source": [
    "# complex - Komplexné číslo\n",
    "# 5 + 2i \n",
    "a = 3 + 3j\n",
    "print(type(a))"
   ]
  },
  {
   "cell_type": "code",
   "execution_count": 34,
   "id": "c606aafd",
   "metadata": {},
   "outputs": [
    {
     "name": "stdout",
     "output_type": "stream",
     "text": [
      "Aktualny datum a case je --> 2021-12-08 17:17:55.666519\n",
      "Aktualny rok je --> 2021\n"
     ]
    }
   ],
   "source": [
    "import datetime\n",
    "aktualny_datum_cas = datetime.datetime.now()\n",
    "print(\"Aktualny datum a case je -->\", aktualny_datum_cas)\n",
    "\n",
    "aktualny_rok = aktualny_datum_cas.year\n",
    "print(\"Aktualny rok je -->\", aktualny_rok)"
   ]
  },
  {
   "cell_type": "code",
   "execution_count": 36,
   "id": "8fdc6f91",
   "metadata": {},
   "outputs": [
    {
     "name": "stdout",
     "output_type": "stream",
     "text": [
      "<class 'bytes'>\n",
      "b'Ahoj'\n"
     ]
    }
   ],
   "source": [
    "# bytes (bajty)\n",
    "a = b\"Ahoj\"\n",
    "print(type(a))\n",
    "print(a)\n"
   ]
  },
  {
   "cell_type": "code",
   "execution_count": 37,
   "id": "0d8c2c53",
   "metadata": {},
   "outputs": [
    {
     "name": "stdout",
     "output_type": "stream",
     "text": [
      "<class 'memoryview'>\n",
      "<memory at 0x0000026A8FEC3C40>\n"
     ]
    }
   ],
   "source": [
    "# memoryview (adresy v pamati) 0-9A-F, 10->A, 11->B, 15->F\n",
    "b = memoryview(bytes(2))\n",
    "print(type(b))\n",
    "print(b)"
   ]
  },
  {
   "cell_type": "markdown",
   "id": "bed50221",
   "metadata": {},
   "source": [
    "# 03. Pretypovanie (casting)"
   ]
  },
  {
   "cell_type": "code",
   "execution_count": 54,
   "id": "ebb6e4ab",
   "metadata": {},
   "outputs": [
    {
     "name": "stdout",
     "output_type": "stream",
     "text": [
      "vyplata ma hodnotu --> 1956.23 , je to typ --> <class 'float'>\n",
      "vyplata_cele_cisla ma hodnotu --> 1956 , je to typ --> <class 'int'>\n",
      "vyplata_retazec ma hodnotu --> 1956.23 , je to typ --> <class 'str'>\n",
      "vyplata_bool ma hodnotu --> True , je to typ --> <class 'bool'>\n"
     ]
    }
   ],
   "source": [
    "vyplata = 1956.23\n",
    "print(\"vyplata ma hodnotu -->\", vyplata, \", je to typ -->\", type(vyplata))\n",
    "\n",
    "vyplata_cele_cisla = int(vyplata)\n",
    "print(\"vyplata_cele_cisla ma hodnotu -->\", vyplata_cele_cisla, \", je to typ -->\", type(vyplata_cele_cisla))\n",
    "\n",
    "vyplata_retazec = str(vyplata)\n",
    "print(\"vyplata_retazec ma hodnotu -->\", vyplata_retazec, \", je to typ -->\", type(vyplata_retazec))\n",
    "\n",
    "# 0, None, \"\" --> false\n",
    "vyplata_bool = bool(vyplata)\n",
    "print(\"vyplata_bool ma hodnotu -->\", vyplata_bool, \", je to typ -->\", type(vyplata_bool))"
   ]
  },
  {
   "cell_type": "markdown",
   "id": "e1dd66cf",
   "metadata": {},
   "source": [
    "# 04. Graf, knižnica numpy, matplotlib"
   ]
  },
  {
   "cell_type": "code",
   "execution_count": 67,
   "id": "35aa2798",
   "metadata": {},
   "outputs": [
    {
     "data": {
      "image/png": "[encoded data removed]",
      "text/plain": [
       "<Figure size 432x288 with 1 Axes>"
      ]
     },
     "metadata": {
      "needs_background": "light"
     },
     "output_type": "display_data"
    }
   ],
   "source": [
    "import numpy\n",
    "import matplotlib.pyplot as plt\n",
    "\n",
    "# Suradnice/koordinatory X a y\n",
    "x = numpy.arange(10, 10 * numpy.pi, 1)\n",
    "y = numpy.tan(x)\n",
    "\n",
    "# matplotlib.pyplot.plot(x,y) \n",
    "# matplotlib.pyplot.show()\n",
    "\n",
    "plt.title(\"Sínus signál\")\n",
    "plt.plot(x,y) \n",
    "plt.show()"
   ]
  },
  {
   "cell_type": "code",
   "execution_count": null,
   "id": "b0ff5f45",
   "metadata": {},
   "outputs": [],
   "source": []
  },
  {
   "cell_type": "code",
   "execution_count": null,
   "id": "ad1f9db9",
   "metadata": {},
   "outputs": [],
   "source": []
  }
 ],
 "metadata": {
  "kernelspec": {
   "display_name": "Python 3 (ipykernel)",
   "language": "python",
   "name": "python3"
  },
  "language_info": {
   "codemirror_mode": {
    "name": "ipython",
    "version": 3
   },
   "file_extension": ".py",
   "mimetype": "text/x-python",
   "name": "python",
   "nbconvert_exporter": "python",
   "pygments_lexer": "ipython3",
   "version": "3.9.7"
  }
 },
 "nbformat": 4,
 "nbformat_minor": 5
}
