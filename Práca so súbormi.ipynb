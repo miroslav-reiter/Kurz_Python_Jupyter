{
 "cells": [
  {
   "cell_type": "markdown",
   "id": "cubic-herald",
   "metadata": {},
   "source": [
    "# Práca so súbormi"
   ]
  },
  {
   "cell_type": "markdown",
   "id": "auburn-button",
   "metadata": {},
   "source": [
    "## Čítanie a zápis"
   ]
  },
  {
   "cell_type": "markdown",
   "id": "built-garden",
   "metadata": {},
   "source": [
    " Otvoriť súbor"
   ]
  },
  {
   "cell_type": "code",
   "execution_count": null,
   "id": "tender-shock",
   "metadata": {},
   "outputs": [],
   "source": [
    "f = open(\"file.txt\", \"w\")"
   ]
  },
  {
   "cell_type": "markdown",
   "id": "emotional-ground",
   "metadata": {},
   "source": [
    "Zapísať do súboru"
   ]
  },
  {
   "cell_type": "code",
   "execution_count": null,
   "id": "cooperative-attraction",
   "metadata": {},
   "outputs": [],
   "source": [
    "f.write(\"this is it \\n\")"
   ]
  },
  {
   "cell_type": "markdown",
   "id": "color-kitchen",
   "metadata": {},
   "source": [
    "uložiť zmeny a ukončiť prácu so súborom"
   ]
  },
  {
   "cell_type": "code",
   "execution_count": null,
   "id": "proprietary-japan",
   "metadata": {},
   "outputs": [],
   "source": [
    "f.close()"
   ]
  },
  {
   "cell_type": "markdown",
   "id": "scientific-validity",
   "metadata": {},
   "source": [
    "Čítanie zo súboru"
   ]
  },
  {
   "cell_type": "code",
   "execution_count": null,
   "id": "known-powell",
   "metadata": {},
   "outputs": [],
   "source": [
    "f = open(\"file.txt\", \"r\")\n",
    "a = f.read()\n",
    "print(a)\n",
    "f.close()"
   ]
  },
  {
   "cell_type": "markdown",
   "id": "informational-annotation",
   "metadata": {},
   "source": [
    "Zápis na koniec súboru (bez prepísania obsahu)"
   ]
  },
  {
   "cell_type": "code",
   "execution_count": null,
   "id": "respiratory-camping",
   "metadata": {},
   "outputs": [],
   "source": [
    "f = open(\"file.txt\", \"a\")\n",
    "f.write(\"Now the file has more content!\")\n",
    "f.close()"
   ]
  }
 ],
 "metadata": {
  "kernelspec": {
   "display_name": "Python 3",
   "language": "python",
   "name": "python3"
  },
  "language_info": {
   "codemirror_mode": {
    "name": "ipython",
    "version": 3
   },
   "file_extension": ".py",
   "mimetype": "text/x-python",
   "name": "python",
   "nbconvert_exporter": "python",
   "pygments_lexer": "ipython3",
   "version": "3.6.8"
  }
 },
 "nbformat": 4,
 "nbformat_minor": 5
}
