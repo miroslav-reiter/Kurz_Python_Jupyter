{
 "cells": [
  {
   "cell_type": "markdown",
   "id": "marked-kitchen",
   "metadata": {},
   "source": [
    "# Premenné a typy dát"
   ]
  },
  {
   "cell_type": "markdown",
   "id": "million-funds",
   "metadata": {},
   "source": [
    "## Integer a float"
   ]
  },
  {
   "cell_type": "markdown",
   "id": "dirty-weapon",
   "metadata": {},
   "source": [
    "Premenná typu integer"
   ]
  },
  {
   "cell_type": "code",
   "execution_count": 1,
   "id": "thorough-lesbian",
   "metadata": {},
   "outputs": [],
   "source": [
    "integer = 7"
   ]
  },
  {
   "cell_type": "code",
   "execution_count": 2,
   "id": "loved-arkansas",
   "metadata": {},
   "outputs": [
    {
     "data": {
      "text/plain": [
       "7"
      ]
     },
     "execution_count": 2,
     "metadata": {},
     "output_type": "execute_result"
    }
   ],
   "source": [
    "integer"
   ]
  },
  {
   "cell_type": "markdown",
   "id": "athletic-summer",
   "metadata": {},
   "source": [
    "Premenná typu float"
   ]
  },
  {
   "cell_type": "code",
   "execution_count": 3,
   "id": "pressing-horizontal",
   "metadata": {},
   "outputs": [],
   "source": [
    "float = 7.0"
   ]
  },
  {
   "cell_type": "code",
   "execution_count": 4,
   "id": "auburn-movement",
   "metadata": {},
   "outputs": [
    {
     "data": {
      "text/plain": [
       "7.0"
      ]
     },
     "execution_count": 4,
     "metadata": {},
     "output_type": "execute_result"
    }
   ],
   "source": [
    "float"
   ]
  },
  {
   "cell_type": "markdown",
   "id": "drawn-keyboard",
   "metadata": {},
   "source": [
    "Vytváranie premenných"
   ]
  },
  {
   "cell_type": "code",
   "execution_count": 7,
   "id": "earned-workshop",
   "metadata": {},
   "outputs": [
    {
     "name": "stdout",
     "output_type": "stream",
     "text": [
      "1.63 1.63 1.63\n"
     ]
    }
   ],
   "source": [
    "a=b=c=1.63\n",
    "print(a, b, c)"
   ]
  },
  {
   "cell_type": "code",
   "execution_count": 9,
   "id": "guilty-warrior",
   "metadata": {},
   "outputs": [
    {
     "name": "stdout",
     "output_type": "stream",
     "text": [
      "1 2 3\n"
     ]
    }
   ],
   "source": [
    "a, b, c = 1, 2, 3\n",
    "print(a, b, c)"
   ]
  },
  {
   "cell_type": "markdown",
   "id": "included-donor",
   "metadata": {},
   "source": [
    "## String"
   ]
  },
  {
   "cell_type": "markdown",
   "id": "vertical-finance",
   "metadata": {},
   "source": [
    "string je reťazec abecedných znakov"
   ]
  },
  {
   "cell_type": "code",
   "execution_count": 10,
   "id": "auburn-territory",
   "metadata": {},
   "outputs": [],
   "source": [
    "string = \"reťazec\""
   ]
  },
  {
   "cell_type": "code",
   "execution_count": 12,
   "id": "seasonal-temperature",
   "metadata": {},
   "outputs": [
    {
     "name": "stdout",
     "output_type": "stream",
     "text": [
      "reťazec\n"
     ]
    }
   ],
   "source": [
    "print(string)"
   ]
  },
  {
   "cell_type": "code",
   "execution_count": 13,
   "id": "brilliant-generation",
   "metadata": {},
   "outputs": [],
   "source": [
    "s1=\"jedna\""
   ]
  },
  {
   "cell_type": "code",
   "execution_count": 14,
   "id": "novel-football",
   "metadata": {},
   "outputs": [],
   "source": [
    "s2=\"dve\""
   ]
  },
  {
   "cell_type": "code",
   "execution_count": 15,
   "id": "backed-exploration",
   "metadata": {},
   "outputs": [
    {
     "name": "stdout",
     "output_type": "stream",
     "text": [
      "jednadve\n"
     ]
    }
   ],
   "source": [
    "print(s1 + s2)"
   ]
  },
  {
   "cell_type": "code",
   "execution_count": 16,
   "id": "inclusive-provider",
   "metadata": {},
   "outputs": [
    {
     "name": "stdout",
     "output_type": "stream",
     "text": [
      "jedna dve\n"
     ]
    }
   ],
   "source": [
    "print(s1 + ' ' + s2)"
   ]
  },
  {
   "cell_type": "markdown",
   "id": "protected-broadcast",
   "metadata": {},
   "source": [
    "## List"
   ]
  },
  {
   "cell_type": "markdown",
   "id": "wicked-collectible",
   "metadata": {},
   "source": [
    "list je zoznam (jednorozmerná matica) prvkov"
   ]
  },
  {
   "cell_type": "code",
   "execution_count": 23,
   "id": "alive-budget",
   "metadata": {},
   "outputs": [
    {
     "name": "stdout",
     "output_type": "stream",
     "text": [
      "[1, 2, 3, 4, 5, 6.5, 'nieco', True]\n"
     ]
    }
   ],
   "source": [
    "list1 = [1, 2, 3, 4, 5, 6.5, 'nieco', True]\n",
    "#prve_dve_hodnotu = list1[:2]\n",
    "print(list1)"
   ]
  },
  {
   "cell_type": "markdown",
   "id": "aboriginal-working",
   "metadata": {},
   "source": [
    "Pridávanie na koniec zoznamu"
   ]
  },
  {
   "cell_type": "code",
   "execution_count": 25,
   "id": "sonic-reform",
   "metadata": {},
   "outputs": [
    {
     "name": "stdout",
     "output_type": "stream",
     "text": [
      "[1, 2, 3, 4, 5, 6.5, 'nieco', True, 1, 1]\n"
     ]
    }
   ],
   "source": [
    "list1.append(1)\n",
    "print(list1)"
   ]
  },
  {
   "cell_type": "markdown",
   "id": "inclusive-creator",
   "metadata": {},
   "source": [
    "Zobrazenie prvku na prvej pozícii v zozname"
   ]
  },
  {
   "cell_type": "code",
   "execution_count": null,
   "id": "eligible-rebel",
   "metadata": {},
   "outputs": [],
   "source": [
    "list1[0]"
   ]
  },
  {
   "cell_type": "markdown",
   "id": "strong-edinburgh",
   "metadata": {},
   "source": [
    "Iný spôsob vytvárania zoznamov"
   ]
  },
  {
   "cell_type": "code",
   "execution_count": null,
   "id": "prescription-billy",
   "metadata": {},
   "outputs": [],
   "source": [
    "list2 = [1, 2, 3]"
   ]
  }
 ],
 "metadata": {
  "kernelspec": {
   "display_name": "Python 3",
   "language": "python",
   "name": "python3"
  },
  "language_info": {
   "codemirror_mode": {
    "name": "ipython",
    "version": 3
   },
   "file_extension": ".py",
   "mimetype": "text/x-python",
   "name": "python",
   "nbconvert_exporter": "python",
   "pygments_lexer": "ipython3",
   "version": "3.6.8"
  }
 },
 "nbformat": 4,
 "nbformat_minor": 5
}
