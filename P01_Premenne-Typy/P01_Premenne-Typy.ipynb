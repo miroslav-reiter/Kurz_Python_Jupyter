{
 "cells": [
  {
   "cell_type": "markdown",
   "id": "c8b36ae5",
   "metadata": {},
   "source": [
    "# 01. Výpis, tlač"
   ]
  },
  {
   "cell_type": "code",
   "execution_count": 2,
   "id": "d137b207",
   "metadata": {},
   "outputs": [
    {
     "name": "stdout",
     "output_type": "stream",
     "text": [
      "Its alive\n"
     ]
    }
   ],
   "source": [
    "print(\"Its alive\")"
   ]
  },
  {
   "cell_type": "markdown",
   "id": "3e63e917",
   "metadata": {},
   "source": [
    "# 02. Premenné a dátové typy"
   ]
  },
  {
   "cell_type": "code",
   "execution_count": 12,
   "id": "52842286",
   "metadata": {},
   "outputs": [
    {
     "name": "stdout",
     "output_type": "stream",
     "text": [
      "Ahoj Adam\n",
      "Ahoj Adam\n",
      "Do Vianoc je este 23 dni!\n"
     ]
    }
   ],
   "source": [
    "# Jednoriadkovy komentar (poznamky, odkazy)\n",
    "# Retazec (str - string)\n",
    "menoKlient = \"Adam\"\n",
    "print(\"Ahoj\", menoKlient)\n",
    "print(\"Ahoj \" + menoKlient)\n",
    "\n",
    "# Cele cislo (int - integer)\n",
    "pocetDniVianoce = 23\n",
    "print(\"Do Vianoc je este\", pocetDniVianoce, \"dni!\")"
   ]
  },
  {
   "cell_type": "code",
   "execution_count": null,
   "id": "ef081c70",
   "metadata": {},
   "outputs": [],
   "source": []
  }
 ],
 "metadata": {
  "kernelspec": {
   "display_name": "Python 3 (ipykernel)",
   "language": "python",
   "name": "python3"
  },
  "language_info": {
   "codemirror_mode": {
    "name": "ipython",
    "version": 3
   },
   "file_extension": ".py",
   "mimetype": "text/x-python",
   "name": "python",
   "nbconvert_exporter": "python",
   "pygments_lexer": "ipython3",
   "version": "3.9.7"
  }
 },
 "nbformat": 4,
 "nbformat_minor": 5
}
