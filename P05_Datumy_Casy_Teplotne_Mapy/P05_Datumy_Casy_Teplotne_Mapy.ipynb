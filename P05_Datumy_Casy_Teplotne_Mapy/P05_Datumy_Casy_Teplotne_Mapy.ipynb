{
 "cells": [
  {
   "cell_type": "markdown",
   "id": "24feccdd",
   "metadata": {},
   "source": [
    "# 🐍 Kurz Python Jupyter - 5. časť"
   ]
  },
  {
   "cell_type": "markdown",
   "id": "920fad5b",
   "metadata": {},
   "source": [
    "Dátum (date) + čas (time) = datetime, Teplotná mapy (Heat mapy) - Matplotlib + Pandas  "
   ]
  },
  {
   "cell_type": "markdown",
   "id": "644982a2",
   "metadata": {},
   "source": [
    "# 01. Dátum + čas"
   ]
  },
  {
   "cell_type": "code",
   "execution_count": 51,
   "id": "19d92adc",
   "metadata": {},
   "outputs": [
    {
     "name": "stdout",
     "output_type": "stream",
     "text": [
      "Dnes je --> 2022-02-02 18:05:46.059541\n",
      "Dnes je --> 2022-02-02 18:05:46.060540\n",
      "Dnes je --> 2022-02-02 18:05:46.060540\n",
      "Dnes je rok --> 2022\n",
      "Dnes je mesiac (ciselne) --> 2\n",
      "Dnes je den (ciselne) --> 2\n",
      "Dnes je mesiac (textovo - nazov) --> February\n",
      "Dnes je den (textovo - nazov) --> Wednesday\n",
      "\n",
      "Dnes je cas - hodiny --> 18\n",
      "Dnes je cas - minuty --> 5\n",
      "Dnes je cas - sekundy --> 46\n",
      "Dnes je cas - mikrosekundy --> 60540\n",
      "\n",
      "dd.mm.yyyy mm/dd/yyyy yyyy-mm-dd\n",
      "1. Skladanie cez str funkciu -->  2.2.2022\n",
      "2. Skladanie cez repr funkciu -->  2.2.2022\n",
      "3. Skladanie cez strftime funkciu -->  02.02.2022\n",
      "\n",
      "H:M:S \n",
      "Cas -->  18:05:46:060540 PM \n",
      "Cas -->  06 PM\n",
      "\n",
      "Aky datovy typ je day (den) <class 'int'>\n",
      "Aky datovy typ je year (rok) <class 'int'>\n"
     ]
    }
   ],
   "source": [
    "import datetime as dt\n",
    "print(\"Dnes je -->\", datetime.datetime.today())\n",
    "datum_dnes = datetime.datetime.today()\n",
    "print(\"Dnes je -->\", datum_dnes)\n",
    "print(\"Dnes je -->\", dt.datetime.today())\n",
    "\n",
    "print(\"Dnes je rok -->\", datum_dnes.year)\n",
    "print(\"Dnes je mesiac (ciselne) -->\", datum_dnes.month)\n",
    "print(\"Dnes je den (ciselne) -->\", datum_dnes.day)\n",
    "\n",
    "print(\"Dnes je mesiac (textovo - nazov) -->\", datum_dnes.strftime(\"%B\"))\n",
    "print(\"Dnes je den (textovo - nazov) -->\", datum_dnes.strftime(\"%A\"))\n",
    "\n",
    "print(\"\\nDnes je cas - hodiny -->\", datum_dnes.hour)\n",
    "print(\"Dnes je cas - minuty -->\", datum_dnes.minute)\n",
    "print(\"Dnes je cas - sekundy -->\", datum_dnes.second)\n",
    "print(\"Dnes je cas - mikrosekundy -->\", datum_dnes.microsecond)\n",
    "\n",
    "print(\"\\ndd.mm.yyyy mm/dd/yyyy yyyy-mm-dd\")\n",
    "print(\"1. Skladanie cez str funkciu --> \", str(datum_dnes.day) + \".\" + str(datum_dnes.month) + \".\" + str(datum_dnes.year))\n",
    "print(\"2. Skladanie cez repr funkciu --> \", repr(datum_dnes.day) + \".\" + repr(datum_dnes.month) + \".\" + repr(datum_dnes.year))\n",
    "print(\"3. Skladanie cez strftime funkciu --> \", datum_dnes.strftime(\"%d.%m.%Y\"))\n",
    "print(\"\\nH:M:S \")\n",
    "print(\"Cas --> \", datum_dnes.strftime(\"%H:%M:%S:%f %p %z\"))\n",
    "print(\"Cas --> \", datum_dnes.strftime(\"%I %p\"))\n",
    "# print(`(datum_dnes.day)` + \".\" + `(datum_dnes.month)` + \".\" + `(datum_dnes.year)`)\n",
    "print(\"\\nAky datovy typ je day (den)\", type(datum_dnes.day))\n",
    "print(\"Aky datovy typ je year (rok)\", type(datum_dnes.year))"
   ]
  },
  {
   "cell_type": "markdown",
   "id": "80fb7c61",
   "metadata": {},
   "source": [
    "# 02. Úvodzovky (quotes)"
   ]
  },
  {
   "cell_type": "code",
   "execution_count": 39,
   "id": "b5369dcc",
   "metadata": {},
   "outputs": [
    {
     "name": "stdout",
     "output_type": "stream",
     "text": [
      "1. Maria\n",
      "2. Maria\n",
      "It's alive\n",
      "It's alive\n",
      "It\"s alive\n",
      "\"Zjedz svoju veceru\", povedala mama.\n",
      "Monika len ticho povedala: „takto sa programuje v Pythone“ \n",
      "Monika len ticho povedala: \"takto sa programuje v Pythone\" \n"
     ]
    },
    {
     "data": {
      "text/plain": [
       "'\\n    dfgdfg\\n    dfgdfg\\n    dfgdfg\\n    dfgdfg\\n'"
      ]
     },
     "execution_count": 39,
     "metadata": {},
     "output_type": "execute_result"
    }
   ],
   "source": [
    "# “ ” - eng\n",
    "# Monika len ticho povedala: „takto sa programuje v Pythone“ – sk\n",
    "\n",
    "# '' Jednoduche uvodzovky - single quotes - apostrofy\n",
    "print('1. Maria')\n",
    "# \"\" Dvojite uvodzovky - double quotes\n",
    "print(\"2. Maria\")\n",
    "# ` ` Spatna uvodzovka - backticks\n",
    "# print(`\"Karol\"`) \n",
    "# print(`5`)\n",
    "\n",
    "# Escapeovanie / escaping / escape sequences\n",
    "print(\"It's alive\")\n",
    "# Spatne lomitko \\ backslash \\\\ alt + 92 \\\\\\\\\\\\\\\\\\\\\n",
    "print('It\\'s alive')\n",
    "print(\"It\\\"s alive\")\n",
    "print(\"\\\"Zjedz svoju veceru\\\", povedala mama.\")\n",
    "print(\"Monika len ticho povedala: „takto sa programuje v Pythone“ \")\n",
    "print(\"Monika len ticho povedala: \\\"takto sa programuje v Pythone\\\" \")\n",
    "\n",
    "# Trojite uvodzovky - docstring documentation string\n",
    "# ''' Dokumentacia - dokumentacny retazec '''\n",
    "'''\n",
    "    Tento skript umoznuje vytvorit teplotnu mapu z ...\n",
    "    @author Miroslav Reiter\n",
    "    @version 1.0\n",
    "'''"
   ]
  },
  {
   "cell_type": "markdown",
   "id": "53830379",
   "metadata": {},
   "source": [
    "# 03. Dátumová aritmetika"
   ]
  },
  {
   "cell_type": "code",
   "execution_count": 66,
   "id": "91370b4c",
   "metadata": {},
   "outputs": [
    {
     "name": "stdout",
     "output_type": "stream",
     "text": [
      "Den 1 --> 2021-05-10\n",
      "Den 1 Zaciatok projekt --> Mon May 10 00:00:00 2021\n",
      "Den 2 Koniec projekt --> Tue Aug 10 00:00:00 2021\n",
      "Rozdiel 2 dni --> 92 days, 0:00:00\n",
      "Dnes je --> 2022-02-02\n",
      "4 days, 0:00:00\n",
      "Pred 4 dnami -->  2022-01-29\n",
      "Po 4 dnami -->  2022-02-06\n"
     ]
    }
   ],
   "source": [
    "import datetime\n",
    "\n",
    "den1 = datetime.date(2021, 5, 10)\n",
    "print(\"Den 1 -->\", den1)\n",
    "print(\"Den 1 Zaciatok projekt -->\", den1.ctime())\n",
    "# print(\"Typ Den 1 -->\", type(den1))\n",
    "\n",
    "den2 = datetime.date(2021, 8, 10)\n",
    "print(\"Den 2 Koniec projekt -->\", den2.ctime())\n",
    "\n",
    "print(\"Rozdiel 2 dni -->\", den2 - den1)\n",
    "\n",
    "datum_aktualny = datetime.date.today()\n",
    "print(\"Dnes je -->\", datum_aktualny)\n",
    "\n",
    "#  znak delty - grecke pismenko - najcastejsie rozdiel\n",
    "pocet_dni = datetime.timedelta(days=4)\n",
    "print(\"Presne 4 dni\", pocet_dni)\n",
    "pred_4_dnami = datum_aktualny - pocet_dni\n",
    "print(\"Pred 4 dnami --> \", pred_4_dnami)\n",
    "\n",
    "po_4_dnoch = datum_aktualny + pocet_dni\n",
    "print(\"Po 4 dnami --> \", po_4_dnoch)"
   ]
  },
  {
   "cell_type": "markdown",
   "id": "2ea2b14c",
   "metadata": {},
   "source": [
    "# 04. Teplotné mapy (heat mapy)"
   ]
  },
  {
   "cell_type": "code",
   "execution_count": 82,
   "id": "1c61ec51",
   "metadata": {},
   "outputs": [
    {
     "name": "stdout",
     "output_type": "stream",
     "text": [
      "   A  B  C  D\n",
      "1  1  2  3  4\n",
      "2  1  2  3  4\n",
      "3  1  2  3  4\n",
      "4  1  2  3  4\n"
     ]
    },
    {
     "data": {
      "image/png": "[encoded data removed]",
      "text/plain": [
       "<Figure size 432x288 with 1 Axes>"
      ]
     },
     "metadata": {
      "needs_background": "light"
     },
     "output_type": "display_data"
    },
    {
     "data": {
      "image/png": "[encoded data removed]",
      "text/plain": [
       "<Figure size 432x288 with 1 Axes>"
      ]
     },
     "metadata": {
      "needs_background": "light"
     },
     "output_type": "display_data"
    }
   ],
   "source": [
    "from pandas import DataFrame \n",
    "import matplotlib.pyplot as plt\n",
    "\n",
    "# Zoznam [] List\n",
    "# Mnozina {hodnota} value Set\n",
    "# Slovnik {kluc:hodnota} key:value Dictionary\n",
    "\n",
    "\n",
    "vstupne_data = [{1,3,2,4},{1,3,2,4},{1,3,2,4},{1,3,2,4}]\n",
    "# Riadky / rows / zaznamy - records\n",
    "indexy = [\"1\",\"2\", \"3\",\"4\"]\n",
    "# Columns / polia - fields\n",
    "stlpce = [\"A\", \"B\", \"C\", \"D\"]\n",
    "\n",
    "dataframe = DataFrame(vstupne_data, index = indexy, columns = stlpce)\n",
    "print(dataframe)\n",
    "plt.pcolor(dataframe)\n",
    "plt.title(\"Teplotna mapa 1\")\n",
    "plt.show()\n",
    "\n",
    "\n",
    "vstupne_data2 = [{1,6,7,4,5},{5,2,6,3,2},{2,8,3,7,9},{2,5,1,3,0}, {8,2,7,6,4}]\n",
    "indexy = [\"1\",\"2\", \"3\",\"4\",\"5\"]\n",
    "stlpce = [\"S1\", \"S2\", \"S3\", \"S4\",\"S5\"]\n",
    "dataframe2 = DataFrame(vstupne_data2, index = indexy, columns = stlpce)\n",
    "plt.pcolor(dataframe2)\n",
    "plt.title(\"Teplotna mapa 2\")\n",
    "plt.show()"
   ]
  },
  {
   "cell_type": "code",
   "execution_count": 85,
   "id": "ecc9a712",
   "metadata": {},
   "outputs": [
    {
     "data": {
      "image/png": "[encoded data removed]",
      "text/plain": [
       "<Figure size 432x288 with 2 Axes>"
      ]
     },
     "metadata": {
      "needs_background": "light"
     },
     "output_type": "display_data"
    }
   ],
   "source": [
    "import matplotlib.pyplot as plt\n",
    "import numpy as np\n",
    "from matplotlib.colors import LogNorm\n",
    "\n",
    "Z = np.random.rand(6, 10)\n",
    "\n",
    "fig, (ax0, ax1) = plt.subplots(2, 1)\n",
    "\n",
    "c = ax0.pcolor(Z)\n",
    "ax0.set_title('default: no edges')\n",
    "\n",
    "c = ax1.pcolor(Z, edgecolors='k', linewidths=0)\n",
    "ax1.set_title('thick edges')\n",
    "\n",
    "fig.tight_layout()\n",
    "plt.show()"
   ]
  },
  {
   "cell_type": "code",
   "execution_count": null,
   "id": "ddbe4adc",
   "metadata": {},
   "outputs": [],
   "source": []
  }
 ],
 "metadata": {
  "kernelspec": {
   "display_name": "Python 3 (ipykernel)",
   "language": "python",
   "name": "python3"
  },
  "language_info": {
   "codemirror_mode": {
    "name": "ipython",
    "version": 3
   },
   "file_extension": ".py",
   "mimetype": "text/x-python",
   "name": "python",
   "nbconvert_exporter": "python",
   "pygments_lexer": "ipython3",
   "version": "3.9.7"
  }
 },
 "nbformat": 4,
 "nbformat_minor": 5
}
