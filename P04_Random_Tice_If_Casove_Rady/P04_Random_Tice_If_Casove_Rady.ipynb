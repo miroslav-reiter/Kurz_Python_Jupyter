{
 "cells": [
  {
   "cell_type": "markdown",
   "id": "6215166f",
   "metadata": {},
   "source": [
    "# 🐍 Kurz Python Jupyter - 4. časť"
   ]
  },
  {
   "cell_type": "code",
   "execution_count": null,
   "id": "4259e12b",
   "metadata": {},
   "outputs": [],
   "source": [
    "Random, Tice, If, Časové rady"
   ]
  },
  {
   "cell_type": "markdown",
   "id": "1726e8a2",
   "metadata": {},
   "source": [
    "# 01. Random, Math"
   ]
  },
  {
   "cell_type": "code",
   "execution_count": 52,
   "id": "3e4af255",
   "metadata": {},
   "outputs": [
    {
     "name": "stdout",
     "output_type": "stream",
     "text": [
      "['BPF', 'LOG4', 'NV_MAGICCONST', 'RECIP_BPF', 'Random', 'SG_MAGICCONST', 'SystemRandom', 'TWOPI', '_Sequence', '_Set', '__all__', '__builtins__', '__cached__', '__doc__', '__file__', '__loader__', '__name__', '__package__', '__spec__', '_accumulate', '_acos', '_bisect', '_ceil', '_cos', '_e', '_exp', '_floor', '_inst', '_log', '_os', '_pi', '_random', '_repeat', '_sha512', '_sin', '_sqrt', '_test', '_test_generator', '_urandom', '_warn', 'betavariate', 'choice', 'choices', 'expovariate', 'gammavariate', 'gauss', 'getrandbits', 'getstate', 'lognormvariate', 'normalvariate', 'paretovariate', 'randbytes', 'randint', 'random', 'randrange', 'sample', 'seed', 'setstate', 'shuffle', 'triangular', 'uniform', 'vonmisesvariate', 'weibullvariate']\n",
      "\n",
      "Nahodne cislo (0-1) --> 0.4478037437447403\n",
      "0.0 <= x <= 100 --> 87.84424160358603\n",
      "1-6 --> 2\n",
      "Nahodne 4 bajty --> b'\\xf9\\x89 \\x06'\n",
      "\n",
      "Obsah modulu math --> ['__doc__', '__loader__', '__name__', '__package__', '__spec__', 'acos', 'acosh', 'asin', 'asinh', 'atan', 'atan2', 'atanh', 'ceil', 'comb', 'copysign', 'cos', 'cosh', 'degrees', 'dist', 'e', 'erf', 'erfc', 'exp', 'expm1', 'fabs', 'factorial', 'floor', 'fmod', 'frexp', 'fsum', 'gamma', 'gcd', 'hypot', 'inf', 'isclose', 'isfinite', 'isinf', 'isnan', 'isqrt', 'lcm', 'ldexp', 'lgamma', 'log', 'log10', 'log1p', 'log2', 'modf', 'nan', 'nextafter', 'perm', 'pi', 'pow', 'prod', 'radians', 'remainder', 'sin', 'sinh', 'sqrt', 'tan', 'tanh', 'tau', 'trunc', 'ulp']\n",
      "\n",
      "Dokumentacia math --> This module provides access to the mathematical functions\n",
      "defined by the C standard.\n",
      "Ludolfovo cislo --> 3.141592653589793\n",
      "Eulerova konstanta --> 2.718281828459045\n",
      "Ceil zaokruhli smerom nahor na najblizsie cele cislo --> 6\n",
      "Floor zaokruhli smerom nadol na najblizsie cele cislo --> 5\n",
      "Zaokrohluenie klasicke round --->  6\n",
      "Zaokrohluenie klasicke round --->  5\n",
      "Cele cislo 0-10 --> 8\n",
      "5\n",
      "4\n",
      "remiza\n",
      "XL\n",
      "Pred zamiesanim -->  ['eso', 'kral', 'kralovna', 'dolnik', 'hornik']\n",
      "Po zamiesani -->  ['hornik', 'eso', 'kralovna', 'dolnik', 'kral']\n"
     ]
    },
    {
     "ename": "TypeError",
     "evalue": "Population must be a sequence.  For dicts or sets, use sorted(d).",
     "output_type": "error",
     "traceback": [
      "\u001b[1;31m---------------------------------------------------------------------------\u001b[0m",
      "\u001b[1;31mTypeError\u001b[0m                                 Traceback (most recent call last)",
      "\u001b[1;32mC:\\Users\\ADMINI~1\\AppData\\Local\\Temp/ipykernel_14800/1635072519.py\u001b[0m in \u001b[0;36m<module>\u001b[1;34m\u001b[0m\n\u001b[0;32m     41\u001b[0m \u001b[0mrandom\u001b[0m\u001b[1;33m.\u001b[0m\u001b[0mshuffle\u001b[0m\u001b[1;33m(\u001b[0m\u001b[0mbalicek_karty\u001b[0m\u001b[1;33m)\u001b[0m\u001b[1;33m\u001b[0m\u001b[1;33m\u001b[0m\u001b[0m\n\u001b[0;32m     42\u001b[0m \u001b[0mprint\u001b[0m\u001b[1;33m(\u001b[0m\u001b[1;34m\"Po zamiesani --> \"\u001b[0m\u001b[1;33m,\u001b[0m \u001b[0mbalicek_karty\u001b[0m\u001b[1;33m)\u001b[0m\u001b[1;33m\u001b[0m\u001b[1;33m\u001b[0m\u001b[0m\n\u001b[1;32m---> 43\u001b[1;33m \u001b[0mprint\u001b[0m\u001b[1;33m(\u001b[0m\u001b[0mrandom\u001b[0m\u001b[1;33m.\u001b[0m\u001b[0msample\u001b[0m\u001b[1;33m(\u001b[0m\u001b[1;36m100\u001b[0m\u001b[1;33m,\u001b[0m\u001b[1;36m3\u001b[0m\u001b[1;33m)\u001b[0m\u001b[1;33m)\u001b[0m\u001b[1;33m\u001b[0m\u001b[1;33m\u001b[0m\u001b[0m\n\u001b[0m",
      "\u001b[1;32mC:\\ProgramData\\Anaconda3\\lib\\random.py\u001b[0m in \u001b[0;36msample\u001b[1;34m(self, population, k, counts)\u001b[0m\n\u001b[0;32m    431\u001b[0m             \u001b[0mpopulation\u001b[0m \u001b[1;33m=\u001b[0m \u001b[0mtuple\u001b[0m\u001b[1;33m(\u001b[0m\u001b[0mpopulation\u001b[0m\u001b[1;33m)\u001b[0m\u001b[1;33m\u001b[0m\u001b[1;33m\u001b[0m\u001b[0m\n\u001b[0;32m    432\u001b[0m         \u001b[1;32mif\u001b[0m \u001b[1;32mnot\u001b[0m \u001b[0misinstance\u001b[0m\u001b[1;33m(\u001b[0m\u001b[0mpopulation\u001b[0m\u001b[1;33m,\u001b[0m \u001b[0m_Sequence\u001b[0m\u001b[1;33m)\u001b[0m\u001b[1;33m:\u001b[0m\u001b[1;33m\u001b[0m\u001b[1;33m\u001b[0m\u001b[0m\n\u001b[1;32m--> 433\u001b[1;33m             \u001b[1;32mraise\u001b[0m \u001b[0mTypeError\u001b[0m\u001b[1;33m(\u001b[0m\u001b[1;34m\"Population must be a sequence.  For dicts or sets, use sorted(d).\"\u001b[0m\u001b[1;33m)\u001b[0m\u001b[1;33m\u001b[0m\u001b[1;33m\u001b[0m\u001b[0m\n\u001b[0m\u001b[0;32m    434\u001b[0m         \u001b[0mn\u001b[0m \u001b[1;33m=\u001b[0m \u001b[0mlen\u001b[0m\u001b[1;33m(\u001b[0m\u001b[0mpopulation\u001b[0m\u001b[1;33m)\u001b[0m\u001b[1;33m\u001b[0m\u001b[1;33m\u001b[0m\u001b[0m\n\u001b[0;32m    435\u001b[0m         \u001b[1;32mif\u001b[0m \u001b[0mcounts\u001b[0m \u001b[1;32mis\u001b[0m \u001b[1;32mnot\u001b[0m \u001b[1;32mNone\u001b[0m\u001b[1;33m:\u001b[0m\u001b[1;33m\u001b[0m\u001b[1;33m\u001b[0m\u001b[0m\n",
      "\u001b[1;31mTypeError\u001b[0m: Population must be a sequence.  For dicts or sets, use sorted(d)."
     ]
    }
   ],
   "source": [
    "import random\n",
    "print(dir(random))\n",
    "\n",
    "# Pseudonahodne cislo 0.0 <= x < 1.0\n",
    "print(\"\\nNahodne cislo (0-1) -->\", random.random())\n",
    "# Komenter Ctrl + /\n",
    "# print(random.__doc__)\n",
    "\n",
    "\n",
    "# Normalne rozdelenie Gaussovka\n",
    "# Pseudonahodne cislo 0.0 <= x <= 100\n",
    "# Intellisense Ctrl + space (medzera)\n",
    "print(\"0.0 <= x <= 100 -->\", random.uniform(0,100))\n",
    "print(\"1-6 -->\", random.randint(1,6))\n",
    "print(\"Nahodne 4 bajty -->\", random.randbytes(4))\n",
    "\n",
    "import math\n",
    "print(\"\\nObsah modulu math -->\", dir(math))\n",
    "print(\"\\nDokumentacia math -->\", math.__doc__)\n",
    "# print(\"\\nPomocnik math -->\", help(math))\n",
    "print(\"Ludolfovo cislo -->\", math.pi)\n",
    "print(\"Eulerova konstanta -->\", math.e)\n",
    "print(\"Ceil zaokruhli smerom nahor na najblizsie cele cislo -->\", math.ceil(5.001))\n",
    "print(\"Floor zaokruhli smerom nadol na najblizsie cele cislo -->\", math.floor(5.999999))\n",
    "print(\"Zaokrohluenie klasicke round ---> \", round(5.5))\n",
    "print(\"Zaokrohluenie klasicke round ---> \", round(5.3))\n",
    "\n",
    "print(\"Cele cislo 0-10 -->\", math.floor(random.uniform(0,10)))\n",
    "# Cele cislo integer 0-6 inkluzivne 6\n",
    "print(random.randrange(6))\n",
    "\n",
    "# Cele cislo integer 1-6 inkluzivne 6\n",
    "print(random.randrange(1,6))\n",
    "\n",
    "print(random.choice([\"vyhra\",\"prehra\",\"remiza\"]))\n",
    "print(random.choice([\"XL\",\"L\",\"M\",\"S\"]))\n",
    "\n",
    "# Rozlenie retazca a miesanie\n",
    "balicek_karty = \"eso kral kralovna dolnik hornik\".split()\n",
    "print(\"Pred zamiesanim --> \", balicek_karty)\n",
    "random.shuffle(balicek_karty)\n",
    "print(\"Po zamiesani --> \", balicek_karty)\n"
   ]
  },
  {
   "cell_type": "markdown",
   "id": "011e56bf",
   "metadata": {},
   "source": [
    "# 02. Štruktúra If"
   ]
  },
  {
   "cell_type": "markdown",
   "id": "15fe1d65",
   "metadata": {},
   "source": [
    "Vetvenie, rozhodovanie..  \n",
    "Keď budem mať 18 rokov, tak potom...  \n",
    "Keď sa najem, tak potom  \n",
    "Ak cislo bude mensie ako 5, tak potom...  \n",
    "> < <= >= == != isinstance issubclass  "
   ]
  },
  {
   "cell_type": "code",
   "execution_count": 62,
   "id": "c756ac15",
   "metadata": {},
   "outputs": [
    {
     "name": "stdout",
     "output_type": "stream",
     "text": [
      "Hadaj na co myslim: jedlo\n",
      "Neuhadol si, myslel som na --> jedlo\n"
     ]
    }
   ],
   "source": [
    "# = Operator priradenia, ulozenie, assigment\n",
    "a = 3\n",
    "b = 35.3\n",
    "\n",
    "# == Operator porovnania, rovnosti\n",
    "5 == 5 # True\n",
    "5 == 6 # False\n",
    "\n",
    "\n",
    "# == Operator nerovnosti (roznosti)\n",
    "5 != 5 # False\n",
    "5 != 6 # True\n",
    "\n",
    "vstup = input(\"Hadaj na co myslim: \")\n",
    "\n",
    "if vstup == \"mesto\":\n",
    "    print(\"Myslis na mesto...\")\n",
    "# elif - else if\n",
    "elif vstup == \"zviera\":\n",
    "    print(\"Myslis na zviera...\")\n",
    "elif vstup == \"meno\":\n",
    "    print(\"Myslis na meno...\")\n",
    "elif vstup == \"vec\":\n",
    "    print(\"Myslis na vec...\")\n",
    "else:\n",
    "    print(\"Neuhadol si, myslel som na -->\", vstup)\n",
    "\n",
    "\n"
   ]
  },
  {
   "cell_type": "code",
   "execution_count": 66,
   "id": "9b0c52a3",
   "metadata": {},
   "outputs": [
    {
     "name": "stdout",
     "output_type": "stream",
     "text": [
      "Zadaj svoje meno: Martin\n",
      "Volas sa --> Martin\n"
     ]
    }
   ],
   "source": [
    "meno = input(\"Zadaj svoje meno: \")\n",
    "if not meno:\n",
    "    print(\"Nezadal si meno, zadal si meno bez znakov\")\n",
    "else:\n",
    "    print(\"Volas sa -->\", meno)"
   ]
  },
  {
   "cell_type": "markdown",
   "id": "ad99fcda",
   "metadata": {},
   "source": [
    "# 03. Časové rady (Time series)"
   ]
  },
  {
   "cell_type": "code",
   "execution_count": 84,
   "id": "ec0395d4",
   "metadata": {},
   "outputs": [
    {
     "data": {
      "image/png": "[encoded data removed]",
      "text/plain": [
       "<Figure size 864x720 with 1 Axes>"
      ]
     },
     "metadata": {
      "needs_background": "light"
     },
     "output_type": "display_data"
    }
   ],
   "source": [
    "# XLSX, XLS, XLSM, XLSB\n",
    "# CSV ciarka/bodkociarka/tab/medzera oddelene hodnoty\n",
    "# TSV tab oddelene hodnoty\n",
    "# https://pandas.pydata.org/docs/reference/api/pandas.read_csv.html\n",
    "import pandas as pd\n",
    "import matplotlib.pyplot as plt\n",
    "from datetime import datetime\n",
    "\n",
    "# Nacitali data z CSV\n",
    "data_produkty = pd.read_csv(\"Data-Produkty-Ceny.csv\", sep=\";\")\n",
    "# print(data_produkty)\n",
    "\n",
    "# Chceme dataframe/tabulku\n",
    "df_data_produkty = pd.DataFrame(data_produkty, columns = [\"Datum\",\"Cena\"])\n",
    "\n",
    "# Chceme vlastne indexy cez datumy\n",
    "df_data_produkty.index = df_data_produkty[\"Datum\"]\n",
    "del df_data_produkty[\"Datum\"]\n",
    "\n",
    "df_data_produkty.plot(figsize=(12,10))\n",
    "\n",
    "plt.xlabel(\"Datum\")\n",
    "plt.ylabel(\"Ceny uhlia\")\n",
    "plt.title(\"Casove rady\")\n",
    "plt.show()\n"
   ]
  },
  {
   "cell_type": "code",
   "execution_count": null,
   "id": "a9532823",
   "metadata": {},
   "outputs": [],
   "source": []
  }
 ],
 "metadata": {
  "kernelspec": {
   "display_name": "Python 3 (ipykernel)",
   "language": "python",
   "name": "python3"
  },
  "language_info": {
   "codemirror_mode": {
    "name": "ipython",
    "version": 3
   },
   "file_extension": ".py",
   "mimetype": "text/x-python",
   "name": "python",
   "nbconvert_exporter": "python",
   "pygments_lexer": "ipython3",
   "version": "3.9.7"
  }
 },
 "nbformat": 4,
 "nbformat_minor": 5
}
