{
 "cells": [
  {
   "cell_type": "markdown",
   "id": "fa71697a",
   "metadata": {},
   "source": [
    "# 🐍 Kurz Python Jupyter - 6. časť"
   ]
  },
  {
   "cell_type": "markdown",
   "id": "6095b3cb",
   "metadata": {},
   "source": [
    "Cyklus For, čistenie dát (data cleansing), bublinový graf (bubble chart)\n",
    "\n"
   ]
  },
  {
   "cell_type": "markdown",
   "id": "ac44aad4",
   "metadata": {},
   "source": [
    "# 01. Cyklus for"
   ]
  },
  {
   "cell_type": "code",
   "execution_count": 40,
   "id": "e0700585",
   "metadata": {},
   "outputs": [
    {
     "name": "stdout",
     "output_type": "stream",
     "text": [
      "Hello Python\n",
      "Hello Python\n",
      "Hello Python\n",
      "Hello Python\n",
      "Hello Python\n",
      "Ahoj Python\n",
      "Ahoj Python\n",
      "Ahoj Python\n",
      "Ahoj Python\n",
      "Ahoj Python\n",
      "Zadaj pocet opakovani: 4\n",
      "0  Ahoj Fero\n",
      "1  Ahoj Fero\n",
      "2  Ahoj Fero\n",
      "3  Ahoj Fero\n"
     ]
    }
   ],
   "source": [
    "print(\"Hello Python\")\n",
    "print(\"Hello Python\")\n",
    "print(\"Hello Python\")\n",
    "print(\"Hello Python\")\n",
    "print(\"Hello Python\")\n",
    "\n",
    "for premenna in range(5):\n",
    "    print(\"Ahoj Python\")\n",
    "    \n",
    "\n",
    "pocet_opakovani = int(input(\"Zadaj pocet opakovani: \"))\n",
    "for i in range(pocet_opakovani):\n",
    "    print(i, \" Ahoj Fero\")\n"
   ]
  },
  {
   "cell_type": "markdown",
   "id": "c8d37ae2",
   "metadata": {},
   "source": [
    "# 02. Tica Tuple ()"
   ]
  },
  {
   "cell_type": "code",
   "execution_count": null,
   "id": "54eda20e",
   "metadata": {},
   "outputs": [],
   "source": [
    "# tica tuple ()\n",
    "tica = (1,2,3,4,5)\n",
    "print(\"tica -->\", tica)\n",
    "print(type(tica))\n",
    "\n",
    "tica_mena = tuple(\"Karol\")\n",
    "tica_priezviska = (\"Sangala\",\"Merciak\", \"Chovansky\")\n",
    "tica_tituly = \"Ing\", \"Mgr\", \"Bc\", \"PhD\", \"PhDr\"\n",
    "tica_cisla_oblubene = 7, 8, 1, 4\n",
    "tica_prazdna = tuple()\n",
    "tica_skareda = 1.5, \n",
    "\n",
    "print(tica_mena)\n",
    "print(type(tica_mena))\n",
    "\n",
    "print(tica_priezviska)\n",
    "print(type(tica_priezviska))\n",
    "\n",
    "print(tica_tituly)\n",
    "print(type(tica_tituly))\n",
    "\n",
    "print(tica_cisla_oblubene)\n",
    "print(type(tica_cisla_oblubene))\n",
    "\n",
    "print(tica_prazdna)\n",
    "print(type(tica_prazdna))\n",
    "\n",
    "print(tica_skareda)\n",
    "print(type(tica_skareda))\n",
    "\n",
    "a = 5 / 4 * 3 / 2\n",
    "b = ((5 / 4) * 3) / 2\n",
    "c = 5 / 4 * (3 / 2)\n",
    "d = 5 / (4 * 3) / 2\n",
    "\n",
    "print(a)\n",
    "print(b)\n",
    "print(c)\n",
    "print(d)\n",
    "\n"
   ]
  },
  {
   "cell_type": "markdown",
   "id": "2080fcac",
   "metadata": {},
   "source": [
    "# 03. Range - Rozsah "
   ]
  },
  {
   "cell_type": "code",
   "execution_count": 35,
   "id": "75ebb296",
   "metadata": {},
   "outputs": [
    {
     "name": "stdout",
     "output_type": "stream",
     "text": [
      "<class 'range'>\n",
      "(0, 1, 2, 3, 4)\n",
      "(0, 1, 2, 3, 4, 5, 6, 7, 8, 9)\n",
      "(1, 2, 3, 4, 5, 6, 7, 8, 9, 10)\n",
      "(-10, -9, -8, -7, -6, -5, -4, -3, -2, -1, 0, 1, 2, 3, 4, 5, 6, 7, 8, 9, 10)\n",
      "(-10, -8, -6, -4, -2, 0, 2, 4, 6, 8, 10)\n",
      "(-9, -7, -5, -3, -1, 1, 3, 5, 7, 9)\n",
      "(-10, -7, -4, -1, 2, 5, 8)\n"
     ]
    }
   ],
   "source": [
    "print(type(range(5)))\n",
    "print(tuple(range(5)))\n",
    "print(tuple(range(10)))\n",
    "print(tuple(range(1,11)))\n",
    "print(tuple(range(-10,11)))\n",
    "print(tuple(range(-10,11,2)))\n",
    "print(tuple(range(-9,11,2)))\n",
    "print(tuple(range(-10,11,3)))"
   ]
  },
  {
   "cell_type": "markdown",
   "id": "f395240e",
   "metadata": {},
   "source": [
    "# 04. Bublinový graf"
   ]
  },
  {
   "cell_type": "code",
   "execution_count": 48,
   "id": "d61cf9a7",
   "metadata": {},
   "outputs": [
    {
     "data": {
      "image/png": "[encoded data removed]",
      "text/plain": [
       "<Figure size 432x288 with 1 Axes>"
      ]
     },
     "metadata": {
      "needs_background": "light"
     },
     "output_type": "display_data"
    }
   ],
   "source": [
    "import numpy as np\n",
    "import matplotlib.pyplot as plt\n",
    "\n",
    "x = np.random.rand(20)\n",
    "y = np.random.rand(20)\n",
    "z = np.random.rand(20)\n",
    "farby = np.random.rand(20)\n",
    "plt.scatter(x,y,s=z*5000, c=farby)\n",
    "plt.show()\n"
   ]
  },
  {
   "cell_type": "markdown",
   "id": "5529bc30",
   "metadata": {},
   "source": [
    "# 05. Čistenie dát"
   ]
  },
  {
   "cell_type": "code",
   "execution_count": 72,
   "id": "17795559",
   "metadata": {},
   "outputs": [
    {
     "name": "stdout",
     "output_type": "stream",
     "text": [
      "       prvy     druhy     treti\n",
      "a -2.466731 -0.074618 -1.591084\n",
      "b       NaN       NaN       NaN\n",
      "c -0.675343  0.117351 -0.830843\n",
      "d       NaN       NaN       NaN\n",
      "e -0.114726  0.231400  0.086174\n",
      "f       NaN       NaN       NaN\n",
      "g -0.624074  1.097658  0.106032\n",
      "i       NaN       NaN       NaN\n",
      "j       NaN       NaN       NaN\n",
      "    prvy  druhy  treti\n",
      "a  False  False  False\n",
      "b   True   True   True\n",
      "c  False  False  False\n",
      "d   True   True   True\n",
      "e  False  False  False\n",
      "f   True   True   True\n",
      "g  False  False  False\n",
      "i   True   True   True\n",
      "j   True   True   True\n",
      "       prvy     druhy     treti\n",
      "a -2.466731 -0.074618 -1.591084\n",
      "c -0.675343  0.117351 -0.830843\n",
      "e -0.114726  0.231400  0.086174\n",
      "g -0.624074  1.097658  0.106032\n"
     ]
    }
   ],
   "source": [
    "import pandas as pd\n",
    "import numpy as np\n",
    "indexy = [1,2,3,4,5,6]\n",
    "indexy_a = ['a', 'c', 'e','h','g']\n",
    "stlpce = [\"prvy\",\"druhy\",\"treti\"]\n",
    "dataframe = pd.DataFrame(np.random.randn(5,3), index=indexy_a, columns = stlpce)\n",
    "dataframe = dataframe.reindex(['a','b','c','d','e','f','g','i','j'])\n",
    "print(dataframe)\n",
    "print(dataframe.isnull())\n",
    "print(dataframe.dropna())"
   ]
  },
  {
   "cell_type": "code",
   "execution_count": null,
   "id": "011e448f",
   "metadata": {},
   "outputs": [],
   "source": []
  },
  {
   "cell_type": "code",
   "execution_count": null,
   "id": "b845b827",
   "metadata": {},
   "outputs": [],
   "source": []
  },
  {
   "cell_type": "code",
   "execution_count": null,
   "id": "90524cf0",
   "metadata": {},
   "outputs": [],
   "source": []
  },
  {
   "cell_type": "code",
   "execution_count": null,
   "id": "ad68368e",
   "metadata": {},
   "outputs": [],
   "source": []
  }
 ],
 "metadata": {
  "kernelspec": {
   "display_name": "Python 3 (ipykernel)",
   "language": "python",
   "name": "python3"
  },
  "language_info": {
   "codemirror_mode": {
    "name": "ipython",
    "version": 3
   },
   "file_extension": ".py",
   "mimetype": "text/x-python",
   "name": "python",
   "nbconvert_exporter": "python",
   "pygments_lexer": "ipython3",
   "version": "3.9.7"
  }
 },
 "nbformat": 4,
 "nbformat_minor": 5
}
