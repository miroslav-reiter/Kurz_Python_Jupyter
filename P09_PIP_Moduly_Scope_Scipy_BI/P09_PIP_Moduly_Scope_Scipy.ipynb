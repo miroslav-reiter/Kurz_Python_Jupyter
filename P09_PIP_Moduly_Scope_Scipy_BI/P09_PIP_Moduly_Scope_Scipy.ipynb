{
 "cells": [
  {
   "cell_type": "markdown",
   "id": "228bdc16",
   "metadata": {},
   "source": [
    "# 🐍 Kurz Python Jupyter - 9. časť"
   ]
  },
  {
   "attachments": {},
   "cell_type": "markdown",
   "id": "ca525164",
   "metadata": {},
   "source": [
    "PIP, Moduly, Scope, Scipy, Power BI"
   ]
  },
  {
   "cell_type": "markdown",
   "id": "dcc79554",
   "metadata": {},
   "source": [
    "# 01. PIP"
   ]
  },
  {
   "cell_type": "code",
   "execution_count": 19,
   "id": "5014f289",
   "metadata": {},
   "outputs": [
    {
     "name": "stdout",
     "output_type": "stream",
     "text": [
      "Name: cowsay\n",
      "Version: 4.0\n",
      "Summary: The famous cowsay for GNU/Linux is now available for python\n",
      "Home-page: https://github.com/VaasuDevanS/cowsay-python\n",
      "Author: Vaasudevan Srinivasan\n",
      "Author-email: vaasuceg.96@gmail.com\n",
      "License: GNU-GPL\n",
      "Location: c:\\programdata\\anaconda3\\lib\\site-packages\n",
      "Requires: \n",
      "Required-by: \n"
     ]
    }
   ],
   "source": [
    "# !pip help                      \n",
    "!pip show cowsay"
   ]
  },
  {
   "cell_type": "code",
   "execution_count": 2,
   "id": "067e5bb1",
   "metadata": {},
   "outputs": [
    {
     "name": "stdout",
     "output_type": "stream",
     "text": [
      "Package                            Version\n",
      "---------------------------------- --------------------\n",
      "alabaster                          0.7.12\n",
      "anaconda-client                    1.9.0\n",
      "anaconda-navigator                 2.1.1\n",
      "anaconda-project                   0.10.1\n",
      "anyio                              2.2.0\n",
      "appdirs                            1.4.4\n",
      "argh                               0.26.2\n",
      "argon2-cffi                        20.1.0\n",
      "arrow                              0.13.1\n",
      "asn1crypto                         1.4.0\n",
      "astroid                            2.6.6\n",
      "astropy                            4.3.1\n",
      "async-generator                    1.10\n",
      "atomicwrites                       1.4.0\n",
      "attrs                              21.2.0\n",
      "autopep8                           1.5.7\n",
      "Babel                              2.9.1\n",
      "backcall                           0.2.0\n",
      "backports.functools-lru-cache      1.6.4\n",
      "backports.shutil-get-terminal-size 1.0.0\n",
      "backports.tempfile                 1.0\n",
      "backports.weakref                  1.0.post1\n",
      "bcrypt                             3.2.0\n",
      "beautifulsoup4                     4.10.0\n",
      "binaryornot                        0.4.4\n",
      "bitarray                           2.3.0\n",
      "bkcharts                           0.2\n",
      "black                              19.10b0\n",
      "bleach                             4.0.0\n",
      "bokeh                              2.4.1\n",
      "boto                               2.49.0\n",
      "Bottleneck                         1.3.2\n",
      "brotlipy                           0.7.0\n",
      "cached-property                    1.5.2\n",
      "certifi                            2021.10.8\n",
      "cffi                               1.14.6\n",
      "chardet                            4.0.0\n",
      "charset-normalizer                 2.0.4\n",
      "click                              8.0.3\n",
      "cloudpickle                        2.0.0\n",
      "clyent                             1.2.2\n",
      "colorama                           0.4.4\n",
      "comtypes                           1.1.10\n",
      "conda                              4.10.3\n",
      "conda-build                        3.21.6\n",
      "conda-content-trust                0+unknown\n",
      "conda-pack                         0.6.0\n",
      "conda-package-handling             1.7.3\n",
      "conda-repo-cli                     1.0.4\n",
      "conda-token                        0.3.0\n",
      "conda-verify                       3.4.2\n",
      "contextlib2                        0.6.0.post1\n",
      "cookiecutter                       1.7.2\n",
      "cryptography                       3.4.8\n",
      "cycler                             0.10.0\n",
      "Cython                             0.29.24\n",
      "cytoolz                            0.11.0\n",
      "daal4py                            2021.3.0\n",
      "dask                               2021.10.0\n",
      "debugpy                            1.4.1\n",
      "decorator                          5.1.0\n",
      "defusedxml                         0.7.1\n",
      "diff-match-patch                   20200713\n",
      "distributed                        2021.10.0\n",
      "docutils                           0.17.1\n",
      "entrypoints                        0.3\n",
      "et-xmlfile                         1.1.0\n",
      "fastcache                          1.1.0\n",
      "filelock                           3.3.1\n",
      "flake8                             3.9.2\n",
      "Flask                              1.1.2\n",
      "fonttools                          4.25.0\n",
      "fsspec                             2021.10.1\n",
      "future                             0.18.2\n",
      "gevent                             21.8.0\n",
      "glob2                              0.7\n",
      "greenlet                           1.1.1\n",
      "h5py                               3.2.1\n",
      "HeapDict                           1.0.1\n",
      "html5lib                           1.1\n",
      "idna                               3.2\n",
      "imagecodecs                        2021.8.26\n",
      "imageio                            2.9.0\n",
      "imagesize                          1.2.0\n",
      "importlib-metadata                 4.8.1\n",
      "inflection                         0.5.1\n",
      "iniconfig                          1.1.1\n",
      "intervaltree                       3.1.0\n",
      "ipykernel                          6.4.1\n",
      "ipython                            7.29.0\n",
      "ipython-genutils                   0.2.0\n",
      "ipywidgets                         7.6.5\n",
      "isort                              5.9.3\n",
      "itsdangerous                       2.0.1\n",
      "jdcal                              1.4.1\n",
      "jedi                               0.18.0\n",
      "Jinja2                             2.11.3\n",
      "jinja2-time                        0.2.0\n",
      "joblib                             1.1.0\n",
      "json5                              0.9.6\n",
      "jsonschema                         3.2.0\n",
      "jupyter                            1.0.0\n",
      "jupyter-client                     6.1.12\n",
      "jupyter-console                    6.4.0\n",
      "jupyter-core                       4.8.1\n",
      "jupyter-server                     1.4.1\n",
      "jupyterlab                         3.2.1\n",
      "jupyterlab-pygments                0.1.2\n",
      "jupyterlab-server                  2.8.2\n",
      "jupyterlab-widgets                 1.0.0\n",
      "keyring                            23.1.0\n",
      "kiwisolver                         1.3.1\n",
      "lazy-object-proxy                  1.6.0\n",
      "libarchive-c                       2.9\n",
      "llvmlite                           0.37.0\n",
      "locket                             0.2.1\n",
      "lxml                               4.6.3\n",
      "MarkupSafe                         1.1.1\n",
      "matplotlib                         3.4.3\n",
      "matplotlib-inline                  0.1.2\n",
      "mccabe                             0.6.1\n",
      "menuinst                           1.4.18\n",
      "mistune                            0.8.4\n",
      "mkl-fft                            1.3.1\n",
      "mkl-random                         1.2.2\n",
      "mkl-service                        2.4.0\n",
      "mock                               4.0.3\n",
      "more-itertools                     8.10.0\n",
      "mpmath                             1.2.1\n",
      "msgpack                            1.0.2\n",
      "multipledispatch                   0.6.0\n",
      "munkres                            1.1.4\n",
      "mypy-extensions                    0.4.3\n",
      "navigator-updater                  0.2.1\n",
      "nbclassic                          0.2.6\n",
      "nbclient                           0.5.3\n",
      "nbconvert                          6.1.0\n",
      "nbformat                           5.1.3\n",
      "nest-asyncio                       1.5.1\n",
      "networkx                           2.6.3\n",
      "nltk                               3.6.5\n",
      "nose                               1.3.7\n",
      "notebook                           6.4.5\n",
      "numba                              0.54.1\n",
      "numexpr                            2.7.3\n",
      "numpy                              1.20.3\n",
      "numpydoc                           1.1.0\n",
      "olefile                            0.46\n",
      "openpyxl                           3.0.9\n",
      "packaging                          21.0\n",
      "pandas                             1.3.4\n",
      "pandocfilters                      1.4.3\n",
      "paramiko                           2.7.2\n",
      "parso                              0.8.2\n",
      "partd                              1.2.0\n",
      "path                               16.0.0\n",
      "pathlib2                           2.3.6\n",
      "pathspec                           0.7.0\n",
      "patsy                              0.5.2\n",
      "pep8                               1.7.1\n",
      "pexpect                            4.8.0\n",
      "pickleshare                        0.7.5\n",
      "Pillow                             8.4.0\n",
      "pip                                21.2.4\n",
      "pkginfo                            1.7.1\n",
      "pluggy                             0.13.1\n",
      "ply                                3.11\n",
      "poyo                               0.5.0\n",
      "prometheus-client                  0.11.0\n",
      "prompt-toolkit                     3.0.20\n",
      "psutil                             5.8.0\n",
      "ptyprocess                         0.7.0\n",
      "py                                 1.10.0\n",
      "pycodestyle                        2.7.0\n",
      "pycosat                            0.6.3\n",
      "pycparser                          2.20\n",
      "pycurl                             7.44.1\n",
      "pydocstyle                         6.1.1\n",
      "pyerfa                             2.0.0\n",
      "pyflakes                           2.3.1\n",
      "Pygments                           2.10.0\n",
      "PyJWT                              2.1.0\n",
      "pylint                             2.9.6\n",
      "pyls-spyder                        0.4.0\n",
      "PyNaCl                             1.4.0\n",
      "pyodbc                             4.0.0-unsupported\n",
      "pyOpenSSL                          21.0.0\n",
      "pyparsing                          3.0.4\n",
      "pyreadline                         2.1\n",
      "pyrsistent                         0.18.0\n",
      "PySocks                            1.7.1\n",
      "pytest                             6.2.4\n",
      "python-dateutil                    2.8.2\n",
      "python-lsp-black                   1.0.0\n",
      "python-lsp-jsonrpc                 1.0.0\n",
      "python-lsp-server                  1.2.4\n",
      "python-slugify                     5.0.2\n",
      "pytz                               2021.3\n",
      "PyWavelets                         1.1.1\n",
      "pywin32                            228\n",
      "pywin32-ctypes                     0.2.0\n",
      "pywinpty                           0.5.7\n",
      "PyYAML                             6.0\n",
      "pyzmq                              22.2.1\n",
      "QDarkStyle                         3.0.2\n",
      "qstylizer                          0.1.10\n",
      "QtAwesome                          1.0.2\n",
      "qtconsole                          5.1.1\n",
      "QtPy                               1.10.0\n",
      "regex                              2021.8.3\n",
      "requests                           2.26.0\n",
      "rope                               0.19.0\n",
      "Rtree                              0.9.7\n",
      "ruamel-yaml-conda                  0.15.100\n",
      "scikit-image                       0.18.3\n",
      "scikit-learn                       0.24.2\n",
      "scikit-learn-intelex               2021.20210714.120553\n",
      "scipy                              1.7.1\n",
      "seaborn                            0.11.2\n",
      "Send2Trash                         1.8.0\n",
      "setuptools                         58.0.4\n",
      "simplegeneric                      0.8.1\n",
      "singledispatch                     3.7.0\n",
      "sip                                4.19.13\n",
      "six                                1.16.0\n",
      "sniffio                            1.2.0\n",
      "snowballstemmer                    2.1.0\n",
      "sortedcollections                  2.1.0\n",
      "sortedcontainers                   2.4.0\n",
      "soupsieve                          2.2.1\n",
      "Sphinx                             4.2.0\n",
      "sphinxcontrib-applehelp            1.0.2\n",
      "sphinxcontrib-devhelp              1.0.2\n",
      "sphinxcontrib-htmlhelp             2.0.0\n",
      "sphinxcontrib-jsmath               1.0.1\n",
      "sphinxcontrib-qthelp               1.0.3\n",
      "sphinxcontrib-serializinghtml      1.1.5\n",
      "sphinxcontrib-websupport           1.2.4\n",
      "spyder                             5.1.5\n",
      "spyder-kernels                     2.1.3\n",
      "SQLAlchemy                         1.4.22\n",
      "statsmodels                        0.12.2\n",
      "sympy                              1.9\n",
      "tables                             3.6.1\n",
      "TBB                                0.2\n",
      "tblib                              1.7.0\n",
      "terminado                          0.9.4\n",
      "testpath                           0.5.0\n",
      "text-unidecode                     1.3\n",
      "textdistance                       4.2.1\n",
      "threadpoolctl                      2.2.0\n",
      "three-merge                        0.1.1\n",
      "tifffile                           2021.7.2\n",
      "tinycss                            0.4\n",
      "toml                               0.10.2\n",
      "toolz                              0.11.1\n",
      "tornado                            6.1\n",
      "tqdm                               4.62.3\n",
      "traitlets                          5.1.0\n",
      "typed-ast                          1.4.3\n",
      "typing-extensions                  3.10.0.2\n",
      "ujson                              4.0.2\n",
      "unicodecsv                         0.14.1\n",
      "Unidecode                          1.2.0\n",
      "urllib3                            1.26.7\n",
      "watchdog                           2.1.3\n",
      "wcwidth                            0.2.5\n",
      "webencodings                       0.5.1\n",
      "Werkzeug                           2.0.2\n",
      "wheel                              0.37.0\n",
      "whichcraft                         0.6.1\n",
      "widgetsnbextension                 3.5.1\n",
      "win-inet-pton                      1.1.0\n",
      "win-unicode-console                0.5\n",
      "wincertstore                       0.2\n",
      "wrapt                              1.12.1\n",
      "xlrd                               2.0.1\n",
      "XlsxWriter                         3.0.1\n",
      "xlwings                            0.24.9\n",
      "xlwt                               1.3.0\n",
      "xmltodict                          0.12.0\n",
      "yapf                               0.31.0\n",
      "zict                               2.0.0\n",
      "zipp                               3.6.0\n",
      "zope.event                         4.5.0\n",
      "zope.interface                     5.4.0\n"
     ]
    }
   ],
   "source": [
    "!pip list"
   ]
  },
  {
   "cell_type": "code",
   "execution_count": 40,
   "id": "004f9264",
   "metadata": {},
   "outputs": [
    {
     "name": "stdout",
     "output_type": "stream",
     "text": [
      "  _______________\n",
      "| Python je super |\n",
      "  ===============\n",
      "               \\\n",
      "                \\\n",
      "                  ^__^\n",
      "                  (oo)\\_______\n",
      "                  (__)\\       )\\/\\\n",
      "                      ||----w |\n",
      "                      ||     ||\n",
      "  _\n",
      "| . |\n",
      "  =\n",
      "      \\\n",
      "       \\\n",
      "        \\\n",
      "              _------~~-,\n",
      "           ,'            ,\n",
      "           /               \\\\\n",
      "          /                :\n",
      "         |                  '\n",
      "         |                  |\n",
      "         |                  |\n",
      "          |   _--           |\n",
      "          _| =-.     .-.   ||\n",
      "          o|/o/       _.   |\n",
      "          /  ~          \\\\ |\n",
      "        (____\\@)  ___~    |\n",
      "           |_===~~~.`    |\n",
      "        _______.--~     |\n",
      "        \\\\________       |\n",
      "                 \\\\      |\n",
      "               __/-___-- -__\n",
      "              /            _ \\\\\n",
      "              \n",
      "  ____\n",
      "| .... |\n",
      "  ====\n",
      "      \\\n",
      "       \\\n",
      "        \\\n",
      "         \\\n",
      "                               / \\\\  //\\\\\n",
      "                |\\\\___/|      /   \\\\//  \\\\\\\\\n",
      "                /0  0  \\\\__  /    //  | \\\\ \\\\\n",
      "               /     /  \\\\/_/    //   |  \\\\  \\\\\n",
      "               \\@_^_\\@'/   \\\\/_   //    |   \\\\   \\\\\n",
      "               //_^_/     \\\\/_ //     |    \\\\    \\\\\n",
      "            ( //) |        \\\\///      |     \\\\     \\\\\n",
      "          ( / /) _|_ /   )  //       |      \\\\     _\\\\\n",
      "        ( // /) '/,_ _ _/  ( ; -.    |    _ _\\\\.-~        .-~~~^-.\n",
      "      (( / / )) ,-{        _      `-.|.-~-.           .~         `.\n",
      "     (( // / ))  '/\\\\      /                 ~-. _ .-~      .-~^-.  \\\\\n",
      "     (( /// ))      `.   {            }                   /      \\\\  \\\\\n",
      "      (( / ))     .----~-.\\\\        \\\\-'                 .~         \\\\  `. \\\\^-.\n",
      "                 ///.----..>        \\\\             _ -~             `.  ^-`  ^-_\n",
      "                   ///-._ _ _ _ _ _ _}^ - - - - ~                     ~-- ,.-~\n",
      "                                                                      /.-~\n",
      "  ___\n",
      "| ... |\n",
      "  ===\n",
      "           \\\n",
      "            \\\n",
      "             \\\n",
      "              \\\n",
      "                          __---__\n",
      "                       _-       /--______\n",
      "                  __--( /     \\ )XXXXXXXXXXX\\v.\n",
      "                .-XXX(   O   O  )XXXXXXXXXXXXXXX-\n",
      "               /XXX(       U     )        XXXXXXX\\\n",
      "             /XXXXX(              )--_  XXXXXXXXXXX\\\n",
      "            /XXXXX/ (      O     )   XXXXXX   \\XXXXX\\\n",
      "            XXXXX/   /            XXXXXX   \\__ \\XXXXX\n",
      "            XXXXXX__/          XXXXXX         \\__---->\n",
      "    ---___  XXX__/          XXXXXX      \\__         /\n",
      "      \\-  --__/   ___/\\  XXXXXX            /  ___--/=\n",
      "       \\-\\    ___/    XXXXXX              '--- XXXXXX\n",
      "          \\-\\/XXX\\ XXXXXX                      /XXXXX\n",
      "            \\XXXXXXXXX   \\                    /XXXXX/\n",
      "             \\XXXXXX      >                 _/XXXXX/\n",
      "               \\XXXXX--__/              __-- XXXX/\n",
      "                -XXXXXXXX---------------  XXXXXX-\n",
      "                   \\XXXXXXXXXXXXXXXXXXXXXXXXXX/\n",
      "                     \"\"VXXXXXXXXXXXXXXXXXXV\"\"\n",
      "  _____\n",
      "| Cauko |\n",
      "  =====\n",
      "     \\\n",
      "      \\\n",
      "       \\\n",
      "        \\\n",
      "          /     \\_/         |\n",
      "         |                 ||\n",
      "         |                 ||\n",
      "        |    ###\\  /###   | |\n",
      "        |     0  \\/  0    | |\n",
      "       /|                 | |\n",
      "      / |        <        |\\ \\\n",
      "     | /|                 | | |\n",
      "     | |     \\_______/   |  | |\n",
      "     | |                 | / /\n",
      "     /||                 /|||\n",
      "        ----------------|\n",
      "             | |    | |\n",
      "             ***    ***\n",
      "            /___\\  /___\\\n",
      "  ___\n",
      "| Lol |\n",
      "  ===\n",
      "        \\\n",
      "         \\\n",
      "          \\\n",
      "           .--.\n",
      "          |o_o |\n",
      "          |:_/ |\n",
      "         //   \\ \\\n",
      "        (|     | )\n",
      "       /'\\_   _/`\\\n",
      "       \\___)=(___/\n"
     ]
    }
   ],
   "source": [
    "import cowsay as c\n",
    "c.cow(\"Python je super\")\n",
    "# cowsay.cow(\"Java je super\")\n",
    "c.beavis(\" . \")\n",
    "c.dragon(\"....\")\n",
    "c.ghostbusters(\"...\")\n",
    "c.cheese(\"Cauko\")\n",
    "c.tux(\"Lol\")"
   ]
  },
  {
   "cell_type": "code",
   "execution_count": 41,
   "id": "16158315",
   "metadata": {},
   "outputs": [
    {
     "name": "stdout",
     "output_type": "stream",
     "text": [
      "Collecting camelcase\n",
      "  Downloading camelcase-0.2.tar.gz (1.3 kB)\n",
      "Building wheels for collected packages: camelcase\n",
      "  Building wheel for camelcase (setup.py): started\n",
      "  Building wheel for camelcase (setup.py): finished with status 'done'\n",
      "  Created wheel for camelcase: filename=camelcase-0.2-py3-none-any.whl size=1789 sha256=159fa8ba07a209499d7d64a3890fc0c2e0e7a6b063644b0d45ef11e14d59ed0f\n",
      "  Stored in directory: c:\\users\\administrator\\appdata\\local\\pip\\cache\\wheels\\c3\\9a\\eb\\7eca0b069ef85183fd3215aa793d8ffa56ae5b424912c311df\n",
      "Successfully built camelcase\n",
      "Installing collected packages: camelcase\n",
      "Successfully installed camelcase-0.2\n"
     ]
    }
   ],
   "source": [
    "!pip install camelcase"
   ]
  },
  {
   "cell_type": "code",
   "execution_count": 42,
   "id": "7793c8d2",
   "metadata": {},
   "outputs": [
    {
     "name": "stdout",
     "output_type": "stream",
     "text": [
      "Name: camelcase\n",
      "Version: 0.2\n",
      "Summary: Converts a string to Camel Case\n",
      "Home-page: http://www.craigaddyman.com\n",
      "Author: Craig Addyman\n",
      "Author-email: craig.addyman@googlemail.com\n",
      "License: MIT\n",
      "Location: c:\\programdata\\anaconda3\\lib\\site-packages\n",
      "Requires: \n",
      "Required-by: \n"
     ]
    }
   ],
   "source": [
    "!pip show camelcase"
   ]
  },
  {
   "cell_type": "code",
   "execution_count": 44,
   "id": "c7711f51",
   "metadata": {},
   "outputs": [
    {
     "name": "stdout",
     "output_type": "stream",
     "text": [
      "<camelcase.main.CamelCase object at 0x000001FE16CE7F70>\n",
      "<class 'camelcase.main.CamelCase'>\n",
      "Adam Sangala\n"
     ]
    }
   ],
   "source": [
    "import camelcase as c\n",
    "tmp = c.CamelCase()\n",
    "\n",
    "print(tmp)\n",
    "print(type(tmp))\n",
    "\n",
    "cele_meno = \"adam sangala\"\n",
    "\n",
    "print(tmp.hump(cele_meno))"
   ]
  },
  {
   "cell_type": "code",
   "execution_count": 47,
   "id": "880f5ef5",
   "metadata": {},
   "outputs": [
    {
     "name": "stdout",
     "output_type": "stream",
     "text": [
      "Requirement already satisfied: pymongo in c:\\programdata\\anaconda3\\lib\\site-packages (4.0.1)\n"
     ]
    }
   ],
   "source": [
    "# !pip install mysql-connector\n",
    "!pip install pymongo"
   ]
  },
  {
   "cell_type": "markdown",
   "id": "43e0d965",
   "metadata": {},
   "source": [
    "# 02. Scope (Obor platnosti/Rozsah)"
   ]
  },
  {
   "cell_type": "code",
   "execution_count": 64,
   "id": "c7c9a3cb",
   "metadata": {},
   "outputs": [
    {
     "name": "stdout",
     "output_type": "stream",
     "text": [
      "60\n",
      "1. uroven - 🚗\n",
      "1. uroven - 🚗\n",
      "60\n",
      "2. uroven - 🚕\n",
      "2. uroven - 🚕\n",
      "60\n",
      "1. uroven - 🚗\n"
     ]
    }
   ],
   "source": [
    "# Globalny Scope/rozsah\n",
    "level = 60\n",
    "print(level)\n",
    "\n",
    "def vypis_smajlik():\n",
    "    # Lokalny Scope/rozsah\n",
    "    text = \"Usmej sa\"\n",
    "    print(\":-)\")\n",
    "    print(text)\n",
    "\n",
    "# Globalny Scope/rozsah\n",
    " \n",
    "def vykresli_had():\n",
    "    print(\"🐍\")  \n",
    "    \n",
    "def vypis_prva_uroven():\n",
    "    print(\"1. uroven - 🚗\")\n",
    "    global a \n",
    "    a = \"1. uroven - 🚗\"\n",
    "    print(a)\n",
    "    print(level)\n",
    "    \n",
    "    def vypis_druha_uroven():\n",
    "        print(\"2. uroven - 🚕\")\n",
    "        a = \"2. uroven - 🚕\"\n",
    "        print(a)\n",
    "        print(level)\n",
    "        \n",
    "    vypis_druha_uroven()\n",
    "    \n",
    "\n",
    "# Globalny Scope/rozsah  \n",
    "    \n",
    "# vypis_smajlik()    \n",
    "# vykresli_had()\n",
    "vypis_prva_uroven()\n",
    "print(a)\n",
    "\n",
    "# NameError: name 'text' is not defined\n",
    "# print(text)"
   ]
  },
  {
   "cell_type": "markdown",
   "id": "e6b9b628",
   "metadata": {},
   "source": [
    "# 03. Vlastne moduly"
   ]
  },
  {
   "cell_type": "code",
   "execution_count": null,
   "id": "2cb46878",
   "metadata": {},
   "outputs": [],
   "source": [
    "def vypocitaj_obsah_stvorca(a):\n",
    "    \"\"\"\n",
    "    a strana stvorca v cm\n",
    "    \"\"\"\n",
    "    return a * a\n",
    "\n",
    "# Slovnik/Dictionary\n",
    "# Kluc : Hodnota\n",
    "profil_osoba = {\n",
    "    \"meno\" : \"Adam\",\n",
    "    \"email\": \"adam.sangala@gmail.com\",\n",
    "    \"krajina\": \"Slovensko\"\n",
    "}"
   ]
  },
  {
   "cell_type": "code",
   "execution_count": 65,
   "id": "8256514c",
   "metadata": {},
   "outputs": [
    {
     "ename": "ModuleNotFoundError",
     "evalue": "No module named 'P09_PIP_Moduly_Scope_Scipy'",
     "output_type": "error",
     "traceback": [
      "\u001b[1;31m---------------------------------------------------------------------------\u001b[0m",
      "\u001b[1;31mModuleNotFoundError\u001b[0m                       Traceback (most recent call last)",
      "\u001b[1;32mC:\\Users\\ADMINI~1\\AppData\\Local\\Temp/ipykernel_18096/1391144091.py\u001b[0m in \u001b[0;36m<module>\u001b[1;34m\u001b[0m\n\u001b[1;32m----> 1\u001b[1;33m \u001b[1;32mimport\u001b[0m \u001b[0mP09_PIP_Moduly_Scope_Scipy\u001b[0m\u001b[1;33m\u001b[0m\u001b[1;33m\u001b[0m\u001b[0m\n\u001b[0m\u001b[0;32m      2\u001b[0m \u001b[1;32mfrom\u001b[0m \u001b[0mP09_PIP_Moduly_Scope_Scipy\u001b[0m \u001b[1;32mimport\u001b[0m \u001b[0mprofil_osoba\u001b[0m\u001b[1;33m\u001b[0m\u001b[1;33m\u001b[0m\u001b[0m\n",
      "\u001b[1;31mModuleNotFoundError\u001b[0m: No module named 'P09_PIP_Moduly_Scope_Scipy'"
     ]
    }
   ],
   "source": [
    "import P09_PIP_Moduly_Scope_Scipy\n",
    "from P09_PIP_Moduly_Scope_Scipy import profil_osoba"
   ]
  },
  {
   "cell_type": "markdown",
   "id": "ac173500",
   "metadata": {},
   "source": [
    "# 04. Scipy - Tiene, Gradient"
   ]
  },
  {
   "cell_type": "code",
   "execution_count": 74,
   "id": "6c5c6112",
   "metadata": {},
   "outputs": [
    {
     "data": {
      "image/png": "[encoded data removed]",
      "text/plain": [
       "<Figure size 432x288 with 1 Axes>"
      ]
     },
     "metadata": {
      "needs_background": "light"
     },
     "output_type": "display_data"
    },
    {
     "name": "stdout",
     "output_type": "stream",
     "text": [
      "(356, 1200, 4)\n"
     ]
    },
    {
     "data": {
      "image/png": "[encoded data removed]",
      "text/plain": [
       "<Figure size 432x288 with 1 Axes>"
      ]
     },
     "metadata": {
      "needs_background": "light"
     },
     "output_type": "display_data"
    }
   ],
   "source": [
    "import numpy as np\n",
    "import matplotlib.pyplot as plt\n",
    "\n",
    "def odtien(img, percent):\n",
    "    \"\"\"\n",
    "    img - nas obrazok, ktoremu chcem robit odtien\n",
    "    percent - hodnota 0 (bez zmien) - 1 (uplne biele)\n",
    "    \"\"\"\n",
    "    obrazok_odtien = img + (np.ones(img.shape) - img) * percent\n",
    "    return obrazok_odtien\n",
    "\n",
    "python_logo = plt.imread(\"logo.png\")\n",
    "plt.axis(\"off\")\n",
    "plt.imshow(python_logo)\n",
    "plt.show()\n",
    "print(python_logo.shape)\n",
    "\n",
    "plt.axis(\"off\")\n",
    "python_logo2 = odtien(python_logo, 0.1)\n",
    "plt.imshow(python_logo2)\n",
    "plt.show()\n"
   ]
  },
  {
   "cell_type": "code",
   "execution_count": 77,
   "id": "ba984b4a",
   "metadata": {},
   "outputs": [
    {
     "data": {
      "image/png": "[encoded data removed]",
      "text/plain": [
       "<Figure size 432x288 with 1 Axes>"
      ]
     },
     "metadata": {
      "needs_background": "light"
     },
     "output_type": "display_data"
    },
    {
     "name": "stdout",
     "output_type": "stream",
     "text": [
      "(356, 1200, 4)\n"
     ]
    },
    {
     "data": {
      "image/png": "[encoded data removed]",
      "text/plain": [
       "<Figure size 432x288 with 1 Axes>"
      ]
     },
     "metadata": {
      "needs_background": "light"
     },
     "output_type": "display_data"
    }
   ],
   "source": [
    "import numpy as np\n",
    "import matplotlib.pyplot as plt\n",
    "\n",
    "def tien(img, percent):\n",
    "    \"\"\"\n",
    "    img - nas obrazok, ktoremu chcem robit odtien\n",
    "    percent - hodnota 0 (bez zmien) - 1 (uplne cierne)\n",
    "    \"\"\"\n",
    "    obrazok_tien = img * (1 - percent)\n",
    "    return obrazok_tien\n",
    "\n",
    "python_logo = plt.imread(\"logo.png\")\n",
    "plt.axis(\"off\")\n",
    "plt.imshow(python_logo)\n",
    "plt.show()\n",
    "print(python_logo.shape)\n",
    "\n",
    "plt.axis(\"off\")\n",
    "python_logo2 = tien(python_logo, 0.9)\n",
    "plt.imshow(python_logo2)\n",
    "plt.show()\n",
    "\n"
   ]
  },
  {
   "cell_type": "code",
   "execution_count": null,
   "id": "680a55f1",
   "metadata": {},
   "outputs": [],
   "source": []
  }
 ],
 "metadata": {
  "kernelspec": {
   "display_name": "Python 3 (ipykernel)",
   "language": "python",
   "name": "python3"
  },
  "language_info": {
   "codemirror_mode": {
    "name": "ipython",
    "version": 3
   },
   "file_extension": ".py",
   "mimetype": "text/x-python",
   "name": "python",
   "nbconvert_exporter": "python",
   "pygments_lexer": "ipython3",
   "version": "3.9.7"
  }
 },
 "nbformat": 4,
 "nbformat_minor": 5
}
