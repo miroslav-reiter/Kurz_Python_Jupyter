{
 "cells": [
  {
   "cell_type": "markdown",
   "id": "faced-chaos",
   "metadata": {},
   "source": [
    "# Cykly"
   ]
  },
  {
   "cell_type": "markdown",
   "id": "centered-transport",
   "metadata": {},
   "source": [
    "## For"
   ]
  },
  {
   "cell_type": "markdown",
   "id": "center-plaintiff",
   "metadata": {},
   "source": [
    "Cykly slúžia na opakovanie príkazov, s obmenami.\n",
    "For sa opakuje konečný počet opakovaní určených iterátorom."
   ]
  },
  {
   "cell_type": "code",
   "execution_count": 1,
   "id": "nominated-consortium",
   "metadata": {},
   "outputs": [
    {
     "name": "stdout",
     "output_type": "stream",
     "text": [
      "1\n",
      "2\n",
      "3\n",
      "ovečka\n"
     ]
    }
   ],
   "source": [
    "list2 = [1, 2, 3, \"ovečka\"]\n",
    "\n",
    "for kazde_cislo in list2:\n",
    "    print(kazde_cislo)"
   ]
  },
  {
   "cell_type": "code",
   "execution_count": 6,
   "id": "spanish-commonwealth",
   "metadata": {},
   "outputs": [
    {
     "name": "stdout",
     "output_type": "stream",
     "text": [
      "0\n",
      "1\n",
      "2\n",
      "3\n",
      "4\n",
      "5\n",
      "6\n",
      "7\n",
      "8\n",
      "9\n",
      "10\n"
     ]
    }
   ],
   "source": [
    "for cislo in range(11):\n",
    "    print(cislo)"
   ]
  },
  {
   "cell_type": "markdown",
   "id": "illegal-organic",
   "metadata": {},
   "source": [
    "## While"
   ]
  },
  {
   "cell_type": "markdown",
   "id": "handy-orchestra",
   "metadata": {},
   "source": [
    "While sa opakuje donekonečna, kým sa nesplní nejaká podmienka"
   ]
  },
  {
   "cell_type": "code",
   "execution_count": 7,
   "id": "aquatic-forty",
   "metadata": {},
   "outputs": [
    {
     "name": "stdout",
     "output_type": "stream",
     "text": [
      "0\n",
      "1\n",
      "2\n",
      "3\n",
      "4\n"
     ]
    }
   ],
   "source": [
    "i = 0\n",
    "\n",
    "while i < 5:\n",
    "    print(i)\n",
    "    i += 1  # toto je to iste ako i = i + 1"
   ]
  },
  {
   "cell_type": "markdown",
   "id": "comic-incentive",
   "metadata": {},
   "source": [
    "## Break"
   ]
  },
  {
   "cell_type": "markdown",
   "id": "unable-conversion",
   "metadata": {},
   "source": [
    "Break slúži na predčasné ukončenie cyklu"
   ]
  },
  {
   "cell_type": "code",
   "execution_count": 8,
   "id": "unauthorized-wyoming",
   "metadata": {},
   "outputs": [
    {
     "name": "stdout",
     "output_type": "stream",
     "text": [
      "2\n",
      "3\n",
      "4\n"
     ]
    }
   ],
   "source": [
    "i = 2\n",
    "\n",
    "while i >= 0:\n",
    "    print(i)\n",
    "    i += 1\n",
    "    if i >= 5:\n",
    "        break"
   ]
  },
  {
   "cell_type": "markdown",
   "id": "verified-equality",
   "metadata": {},
   "source": [
    "## Continue"
   ]
  },
  {
   "cell_type": "markdown",
   "id": "floral-domain",
   "metadata": {},
   "source": [
    "Continue slúži na preskočenie príkazov v aktuálnom priebehu cyklu"
   ]
  },
  {
   "cell_type": "code",
   "execution_count": 9,
   "id": "physical-native",
   "metadata": {},
   "outputs": [
    {
     "name": "stdout",
     "output_type": "stream",
     "text": [
      "1\n",
      "3\n",
      "5\n",
      "7\n",
      "9\n",
      "11\n",
      "13\n",
      "15\n",
      "17\n",
      "19\n"
     ]
    }
   ],
   "source": [
    "for i in range(20):\n",
    "    if i % 2 == 0:\n",
    "        continue+\n",
    "    print(i)"
   ]
  },
  {
   "cell_type": "code",
   "execution_count": null,
   "id": "designing-candy",
   "metadata": {},
   "outputs": [],
   "source": []
  }
 ],
 "metadata": {
  "kernelspec": {
   "display_name": "Python 3",
   "language": "python",
   "name": "python3"
  },
  "language_info": {
   "codemirror_mode": {
    "name": "ipython",
    "version": 3
   },
   "file_extension": ".py",
   "mimetype": "text/x-python",
   "name": "python",
   "nbconvert_exporter": "python",
   "pygments_lexer": "ipython3",
   "version": "3.6.8"
  }
 },
 "nbformat": 4,
 "nbformat_minor": 5
}
