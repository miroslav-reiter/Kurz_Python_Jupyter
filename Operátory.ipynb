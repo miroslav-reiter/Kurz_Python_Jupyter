{
 "cells": [
  {
   "cell_type": "markdown",
   "id": "infrared-vocabulary",
   "metadata": {},
   "source": [
    "# Operátory"
   ]
  },
  {
   "cell_type": "markdown",
   "id": "exempt-mouth",
   "metadata": {},
   "source": [
    "## Aritmetika"
   ]
  },
  {
   "cell_type": "markdown",
   "id": "recent-means",
   "metadata": {},
   "source": [
    "Aritmetické operátory v pythone: násobenie, delenie, sčítanie, odčítanie, mocnenie, modulo..."
   ]
  },
  {
   "cell_type": "code",
   "execution_count": 1,
   "id": "great-found",
   "metadata": {},
   "outputs": [
    {
     "name": "stdout",
     "output_type": "stream",
     "text": [
      "2.5\n"
     ]
    }
   ],
   "source": [
    "cislo = 1 + 2 * 3 / 4.0\n",
    "print(cislo)"
   ]
  },
  {
   "cell_type": "code",
   "execution_count": 2,
   "id": "raising-orchestra",
   "metadata": {},
   "outputs": [
    {
     "name": "stdout",
     "output_type": "stream",
     "text": [
      "3.5\n"
     ]
    }
   ],
   "source": [
    "cislo = cislo + 1\n",
    "print(cislo)"
   ]
  },
  {
   "cell_type": "code",
   "execution_count": 13,
   "id": "hispanic-benefit",
   "metadata": {},
   "outputs": [
    {
     "name": "stdout",
     "output_type": "stream",
     "text": [
      "5\n"
     ]
    }
   ],
   "source": [
    "zvysok = 11 % 6\n",
    "print(zvysok)"
   ]
  },
  {
   "cell_type": "code",
   "execution_count": 14,
   "id": "nearby-disney",
   "metadata": {},
   "outputs": [
    {
     "name": "stdout",
     "output_type": "stream",
     "text": [
      "8\n"
     ]
    }
   ],
   "source": [
    "mocnina = 2 ** 3\n",
    "print(mocnina)"
   ]
  },
  {
   "cell_type": "markdown",
   "id": "level-stationery",
   "metadata": {},
   "source": [
    "Aritmetické operátory s reťazcami"
   ]
  },
  {
   "cell_type": "code",
   "execution_count": 16,
   "id": "aware-marks",
   "metadata": {},
   "outputs": [
    {
     "name": "stdout",
     "output_type": "stream",
     "text": [
      "slovo slovo\n"
     ]
    }
   ],
   "source": [
    "s1 = s2 = \"slovo\"\n",
    "s3 = s1 + \" \" + s2\n",
    "print(s3)"
   ]
  },
  {
   "cell_type": "code",
   "execution_count": 18,
   "id": "hairy-cemetery",
   "metadata": {},
   "outputs": [
    {
     "name": "stdout",
     "output_type": "stream",
     "text": [
      "slovo slovoslovo slovoslovo slovoslovo slovoslovo slovoslovo slovoslovo slovoslovo slovoslovo slovoslovo slovo\n"
     ]
    }
   ],
   "source": [
    "s4 = 10 * s3\n",
    "print(s4)"
   ]
  },
  {
   "cell_type": "markdown",
   "id": "balanced-receiver",
   "metadata": {},
   "source": [
    "Aritmetické operátory so zoznamami"
   ]
  },
  {
   "cell_type": "code",
   "execution_count": 7,
   "id": "radio-threat",
   "metadata": {},
   "outputs": [
    {
     "data": {
      "text/plain": [
       "[1, 2, 3, 4, 5, 6, 4, 5, 6, 4, 5, 6]"
      ]
     },
     "execution_count": 7,
     "metadata": {},
     "output_type": "execute_result"
    }
   ],
   "source": [
    "list1 = [1,2,3]\n",
    "list2 = [4,5,6]\n",
    "list3 = list1 + 3 * list2\n",
    "list3"
   ]
  },
  {
   "cell_type": "code",
   "execution_count": 8,
   "id": "governmental-characteristic",
   "metadata": {},
   "outputs": [
    {
     "name": "stdout",
     "output_type": "stream",
     "text": [
      "2 3\n"
     ]
    }
   ],
   "source": [
    "a = 1; b = 2\n",
    "\n",
    "a, b = b, a + b\n",
    "\n",
    "print(a, b)"
   ]
  },
  {
   "cell_type": "markdown",
   "id": "american-twist",
   "metadata": {},
   "source": [
    "## Logika"
   ]
  },
  {
   "cell_type": "markdown",
   "id": "cloudy-champagne",
   "metadata": {},
   "source": [
    "Logické operátory v pythone: zhodnosť, väčšie/menšie ako, a zaroveň, alebo, zápor"
   ]
  },
  {
   "cell_type": "code",
   "execution_count": 21,
   "id": "dynamic-friday",
   "metadata": {},
   "outputs": [
    {
     "data": {
      "text/plain": [
       "False"
      ]
     },
     "execution_count": 21,
     "metadata": {},
     "output_type": "execute_result"
    }
   ],
   "source": [
    "a == b"
   ]
  },
  {
   "cell_type": "code",
   "execution_count": 24,
   "id": "secondary-organ",
   "metadata": {},
   "outputs": [],
   "source": [
    "c = 1"
   ]
  },
  {
   "cell_type": "code",
   "execution_count": 25,
   "id": "spread-management",
   "metadata": {},
   "outputs": [
    {
     "data": {
      "text/plain": [
       "False"
      ]
     },
     "execution_count": 25,
     "metadata": {},
     "output_type": "execute_result"
    }
   ],
   "source": [
    "a < b <= c"
   ]
  },
  {
   "cell_type": "code",
   "execution_count": 28,
   "id": "orange-aircraft",
   "metadata": {},
   "outputs": [
    {
     "name": "stdout",
     "output_type": "stream",
     "text": [
      "slovo\n"
     ]
    }
   ],
   "source": [
    "print(s1)"
   ]
  },
  {
   "cell_type": "code",
   "execution_count": 29,
   "id": "alien-earthquake",
   "metadata": {},
   "outputs": [
    {
     "data": {
      "text/plain": [
       "True"
      ]
     },
     "execution_count": 29,
     "metadata": {},
     "output_type": "execute_result"
    }
   ],
   "source": [
    "a < b and s1 == \"slovo\""
   ]
  },
  {
   "cell_type": "code",
   "execution_count": 31,
   "id": "focal-jimmy",
   "metadata": {},
   "outputs": [
    {
     "name": "stdout",
     "output_type": "stream",
     "text": [
      "2 3 slovo\n"
     ]
    },
    {
     "data": {
      "text/plain": [
       "True"
      ]
     },
     "execution_count": 31,
     "metadata": {},
     "output_type": "execute_result"
    }
   ],
   "source": [
    "print(a, b, s1)\n",
    "a == b or s1 == \"slovo\""
   ]
  },
  {
   "cell_type": "code",
   "execution_count": 32,
   "id": "forward-chance",
   "metadata": {},
   "outputs": [
    {
     "data": {
      "text/plain": [
       "True"
      ]
     },
     "execution_count": 32,
     "metadata": {},
     "output_type": "execute_result"
    }
   ],
   "source": [
    "a != b"
   ]
  },
  {
   "cell_type": "code",
   "execution_count": 34,
   "id": "intermediate-brooklyn",
   "metadata": {},
   "outputs": [
    {
     "data": {
      "text/plain": [
       "False"
      ]
     },
     "execution_count": 34,
     "metadata": {},
     "output_type": "execute_result"
    }
   ],
   "source": [
    "a = 3\n",
    "b = 3 \n",
    "\n",
    "not a == b"
   ]
  },
  {
   "cell_type": "markdown",
   "id": "round-episode",
   "metadata": {},
   "source": [
    "## Operácie s reťazcami"
   ]
  },
  {
   "cell_type": "code",
   "execution_count": 45,
   "id": "fresh-sellers",
   "metadata": {},
   "outputs": [],
   "source": [
    "s1 = 'Text, ktory ma prave napadol, lll'"
   ]
  },
  {
   "cell_type": "code",
   "execution_count": 39,
   "id": "presidential-picking",
   "metadata": {},
   "outputs": [
    {
     "name": "stdout",
     "output_type": "stream",
     "text": [
      "Text\n"
     ]
    }
   ],
   "source": [
    "print(s1[0:4])"
   ]
  },
  {
   "cell_type": "code",
   "execution_count": 40,
   "id": "graphic-stanley",
   "metadata": {},
   "outputs": [
    {
     "name": "stdout",
     "output_type": "stream",
     "text": [
      "lodapan evarp am yrotk ,txeT\n"
     ]
    }
   ],
   "source": [
    "print(s1[::-1])"
   ]
  },
  {
   "cell_type": "code",
   "execution_count": 41,
   "id": "every-interface",
   "metadata": {},
   "outputs": [
    {
     "name": "stdout",
     "output_type": "stream",
     "text": [
      "28\n"
     ]
    }
   ],
   "source": [
    "print(len(s1))"
   ]
  },
  {
   "cell_type": "code",
   "execution_count": 43,
   "id": "painful-butterfly",
   "metadata": {},
   "outputs": [
    {
     "name": "stdout",
     "output_type": "stream",
     "text": [
      "0\n"
     ]
    }
   ],
   "source": [
    "print(s1.index(\"T\"))"
   ]
  },
  {
   "cell_type": "code",
   "execution_count": 46,
   "id": "determined-weapon",
   "metadata": {},
   "outputs": [
    {
     "name": "stdout",
     "output_type": "stream",
     "text": [
      "4\n"
     ]
    }
   ],
   "source": [
    "print(s1.count(\"l\"))"
   ]
  },
  {
   "cell_type": "code",
   "execution_count": 47,
   "id": "junior-warrant",
   "metadata": {},
   "outputs": [
    {
     "name": "stdout",
     "output_type": "stream",
     "text": [
      "TEXT, KTORY MA PRAVE NAPADOL, LLL\n"
     ]
    }
   ],
   "source": [
    "print(s1.upper())"
   ]
  },
  {
   "cell_type": "code",
   "execution_count": 52,
   "id": "wound-produce",
   "metadata": {},
   "outputs": [
    {
     "name": "stdout",
     "output_type": "stream",
     "text": [
      "True\n"
     ]
    }
   ],
   "source": [
    "print(s1.startswith(\"T\"))"
   ]
  },
  {
   "cell_type": "code",
   "execution_count": 53,
   "id": "tropical-experiment",
   "metadata": {},
   "outputs": [
    {
     "name": "stdout",
     "output_type": "stream",
     "text": [
      "['Text, kt', 'ry ma prave napad', 'l, lll']\n"
     ]
    }
   ],
   "source": [
    "print(s1.split(\"o\"))"
   ]
  },
  {
   "cell_type": "code",
   "execution_count": null,
   "id": "aggregate-terrain",
   "metadata": {},
   "outputs": [],
   "source": []
  }
 ],
 "metadata": {
  "kernelspec": {
   "display_name": "Python 3",
   "language": "python",
   "name": "python3"
  },
  "language_info": {
   "codemirror_mode": {
    "name": "ipython",
    "version": 3
   },
   "file_extension": ".py",
   "mimetype": "text/x-python",
   "name": "python",
   "nbconvert_exporter": "python",
   "pygments_lexer": "ipython3",
   "version": "3.6.8"
  }
 },
 "nbformat": 4,
 "nbformat_minor": 5
}
