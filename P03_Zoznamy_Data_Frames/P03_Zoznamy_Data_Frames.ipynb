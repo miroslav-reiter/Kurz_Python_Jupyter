{
 "cells": [
  {
   "cell_type": "markdown",
   "id": "2515c932",
   "metadata": {},
   "source": [
    "# 01. Zoznam (List) -> C/C++, Java, C#, JavaScript Polia (Array)"
   ]
  },
  {
   "cell_type": "code",
   "execution_count": 11,
   "id": "8089e9cf",
   "metadata": {},
   "outputs": [
    {
     "name": "stdout",
     "output_type": "stream",
     "text": [
      "<class 'list'>\n",
      "[]\n",
      "<class 'list'>\n",
      "['TV 8K Samsung', 'HDMI adapter', 'PS5', 'Nintendo Switch', 'Joystick NS']\n",
      "['mama', 'otec', 'babka', 'bratranec', 'stryko', 'syn']\n",
      "[1, 2, 3, 4, 5, 6, 7, 8, 9]\n",
      "[853.26, 931.94, 1200.98, 2514.78, 3854.17, 8643.36]\n",
      "[True, True, False, True, False]\n",
      "['janko', 35, True, 1.85, ['Python', 'C', 'JavaScript']]\n"
     ]
    }
   ],
   "source": [
    "nakupny_zoznam = []\n",
    "print(type(nakupny_zoznam))\n",
    "print(nakupny_zoznam)\n",
    "\n",
    "# Homogenne - vsade rovnake typy\n",
    "nakupny_zoznam = ['TV 8K Samsung','HDMI adapter', 'PS5', \"Nintendo Switch\", \"Joystick NS\"]\n",
    "print(type(nakupny_zoznam))\n",
    "print(nakupny_zoznam)\n",
    "\n",
    "rodina = ['mama','otec','babka','bratranec','stryko','syn']\n",
    "print(rodina)\n",
    "\n",
    "ciselny_zoznam = [1,2,3,4,5,6,7,8,9]\n",
    "print(ciselny_zoznam)\n",
    "\n",
    "mzdy_zamestnanci = [853.26, 931.94, 1200.98, 2514.78, 3854.17, 8643.36]\n",
    "print(mzdy_zamestnanci)\n",
    "\n",
    "suhlasy_pouzivatelov_gdpr = [True, True, False, True, False]\n",
    "print(suhlasy_pouzivatelov_gdpr)\n",
    "\n",
    "# Heterogenne - vsade rozne typy\n",
    "janko_hrasko = [\"janko\", 35, True, 1.85, [\"Python\",\"C\", \"JavaScript\"]]\n",
    "print(janko_hrasko)\n"
   ]
  },
  {
   "cell_type": "markdown",
   "id": "b8287eb4",
   "metadata": {},
   "source": [
    "# 02. Jupyter témy (themes)"
   ]
  },
  {
   "cell_type": "code",
   "execution_count": null,
   "id": "daf838c5",
   "metadata": {},
   "outputs": [],
   "source": [
    "pip install jupyterthemes\n",
    "# onedork, monokai, grade3, solarizedl, solarizedd\n",
    "jt -t <tema>\n",
    "\n",
    "# Obnovenie do pôvodného stave (restore)\n",
    "!jt -r"
   ]
  },
  {
   "cell_type": "markdown",
   "id": "edb7eed8",
   "metadata": {},
   "source": [
    "# 03. Práca so zoznamom"
   ]
  },
  {
   "cell_type": "code",
   "execution_count": 23,
   "id": "f5c15b13",
   "metadata": {},
   "outputs": [
    {
     "name": "stdout",
     "output_type": "stream",
     "text": [
      "['TV 8K Samsung', 'HDMI adapter', 'PS5', 'Nintendo Switch', 'Joystick NS']\n",
      "1. polozka/0. index --> TV 8K Samsung\n",
      "2. polozka/1. index --> HDMI adapter\n",
      "Posledna. polozka/-1. index --> Joystick NS\n",
      "Predposledna. polozka/-2. index --> Nintendo Switch\n",
      "Pocet poloziek -->  5\n",
      "Posledna. polozka/-1. index --> Joystick NS\n",
      "Predposledna. polozka/-2. index --> Nintendo Switch\n"
     ]
    }
   ],
   "source": [
    "nakupny_zoznam = ['TV 8K Samsung','HDMI adapter', 'PS5', \"Nintendo Switch\", \"Joystick NS\"]\n",
    "print(nakupny_zoznam)\n",
    "# Index\n",
    "print(\"1. polozka/0. index -->\", nakupny_zoznam[0])\n",
    "print(\"2. polozka/1. index -->\", nakupny_zoznam[1])\n",
    "print(\"Posledna. polozka/-1. index -->\", nakupny_zoznam[-1])\n",
    "print(\"Predposledna. polozka/-2. index -->\", nakupny_zoznam[-2])\n",
    "\n",
    "print(\"Pocet poloziek --> \", len(nakupny_zoznam))\n",
    "print(\"Posledna. polozka/-1. index -->\", nakupny_zoznam[len(nakupny_zoznam)-1])\n",
    "print(\"Predposledna. polozka/-2. index -->\", nakupny_zoznam[len(nakupny_zoznam)-2])\n"
   ]
  },
  {
   "cell_type": "markdown",
   "id": "db5686e1",
   "metadata": {},
   "source": [
    "# 04. Filozofia Python"
   ]
  },
  {
   "cell_type": "code",
   "execution_count": 24,
   "id": "c5a965fa",
   "metadata": {},
   "outputs": [
    {
     "name": "stdout",
     "output_type": "stream",
     "text": [
      "The Zen of Python, by Tim Peters\n",
      "\n",
      "Beautiful is better than ugly.\n",
      "Explicit is better than implicit.\n",
      "Simple is better than complex.\n",
      "Complex is better than complicated.\n",
      "Flat is better than nested.\n",
      "Sparse is better than dense.\n",
      "Readability counts.\n",
      "Special cases aren't special enough to break the rules.\n",
      "Although practicality beats purity.\n",
      "Errors should never pass silently.\n",
      "Unless explicitly silenced.\n",
      "In the face of ambiguity, refuse the temptation to guess.\n",
      "There should be one-- and preferably only one --obvious way to do it.\n",
      "Although that way may not be obvious at first unless you're Dutch.\n",
      "Now is better than never.\n",
      "Although never is often better than *right* now.\n",
      "If the implementation is hard to explain, it's a bad idea.\n",
      "If the implementation is easy to explain, it may be a good idea.\n",
      "Namespaces are one honking great idea -- let's do more of those!\n"
     ]
    }
   ],
   "source": [
    "import this"
   ]
  },
  {
   "cell_type": "markdown",
   "id": "0e8f0fc3",
   "metadata": {},
   "source": [
    "# 05. Numpy polia (arrays)"
   ]
  },
  {
   "cell_type": "code",
   "execution_count": 25,
   "id": "1235b252",
   "metadata": {},
   "outputs": [
    {
     "name": "stdout",
     "output_type": "stream",
     "text": [
      "0     Adam\n",
      "1      Eva\n",
      "2    Peter\n",
      "3    Kamil\n",
      "4     Fero\n",
      "dtype: object\n"
     ]
    }
   ],
   "source": [
    "import numpy\n",
    "import pandas\n",
    "\n",
    "data = numpy.array([\"Adam\",\"Eva\",\"Peter\",\"Kamil\",\"Fero\"])\n",
    "rady = pandas.Series(data)\n",
    "\n",
    "print(rady)"
   ]
  },
  {
   "cell_type": "code",
   "execution_count": 33,
   "id": "8bf06366",
   "metadata": {},
   "outputs": [
    {
     "name": "stdout",
     "output_type": "stream",
     "text": [
      "           Meno  Vek\n",
      "general    Adam   18\n",
      "nacelnik    Eva   20\n",
      "rotny     Peter   16\n",
      "porucik   Kamil   36\n",
      "vojak      Fero   19\n"
     ]
    },
    {
     "data": {
      "text/html": [
       "<div>\n",
       "<style scoped>\n",
       "    .dataframe tbody tr th:only-of-type {\n",
       "        vertical-align: middle;\n",
       "    }\n",
       "\n",
       "    .dataframe tbody tr th {\n",
       "        vertical-align: top;\n",
       "    }\n",
       "\n",
       "    .dataframe thead th {\n",
       "        text-align: right;\n",
       "    }\n",
       "</style>\n",
       "<table border=\"1\" class=\"dataframe\">\n",
       "  <thead>\n",
       "    <tr style=\"text-align: right;\">\n",
       "      <th></th>\n",
       "      <th>Meno</th>\n",
       "      <th>Vek</th>\n",
       "    </tr>\n",
       "  </thead>\n",
       "  <tbody>\n",
       "    <tr>\n",
       "      <th>general</th>\n",
       "      <td>Adam</td>\n",
       "      <td>18</td>\n",
       "    </tr>\n",
       "    <tr>\n",
       "      <th>nacelnik</th>\n",
       "      <td>Eva</td>\n",
       "      <td>20</td>\n",
       "    </tr>\n",
       "    <tr>\n",
       "      <th>rotny</th>\n",
       "      <td>Peter</td>\n",
       "      <td>16</td>\n",
       "    </tr>\n",
       "    <tr>\n",
       "      <th>porucik</th>\n",
       "      <td>Kamil</td>\n",
       "      <td>36</td>\n",
       "    </tr>\n",
       "    <tr>\n",
       "      <th>vojak</th>\n",
       "      <td>Fero</td>\n",
       "      <td>19</td>\n",
       "    </tr>\n",
       "  </tbody>\n",
       "</table>\n",
       "</div>"
      ],
      "text/plain": [
       "           Meno  Vek\n",
       "general    Adam   18\n",
       "nacelnik    Eva   20\n",
       "rotny     Peter   16\n",
       "porucik   Kamil   36\n",
       "vojak      Fero   19"
      ]
     },
     "execution_count": 33,
     "metadata": {},
     "output_type": "execute_result"
    }
   ],
   "source": [
    "data_pouzivatelia = {\"Meno\":[\"Adam\",\"Eva\",\"Peter\",\"Kamil\",\"Fero\"], \"Vek\": [18, 20, 16, 36, 19]}\n",
    "data_frame = pandas.DataFrame(data_pouzivatelia, index = [\"general\",\"nacelnik\",\"rotny\",\"porucik\", \"vojak\"])\n",
    "print(data_frame)\n",
    "data_frame"
   ]
  },
  {
   "cell_type": "markdown",
   "id": "690b4ba0",
   "metadata": {},
   "source": [
    "# 06. Čiarový graf"
   ]
  },
  {
   "cell_type": "code",
   "execution_count": 58,
   "id": "cdb33c47",
   "metadata": {},
   "outputs": [
    {
     "data": {
      "text/plain": [
       "Text(2.6, 6, 'Rastieme brutalne')"
      ]
     },
     "execution_count": 58,
     "metadata": {},
     "output_type": "execute_result"
    },
    {
     "data": {
      "image/png": "[encoded data removed]",
      "text/plain": [
       "<Figure size 432x288 with 1 Axes>"
      ]
     },
     "metadata": {
      "needs_background": "light"
     },
     "output_type": "display_data"
    }
   ],
   "source": [
    "import numpy as np\n",
    "from matplotlib import pyplot as plt\n",
    "\n",
    "x = np.arange(0,5)\n",
    "y = x ^ 2\n",
    "\n",
    "plt.title(\"Bitcoin cena 😀\")\n",
    "plt.xlabel(\"Cas\")\n",
    "plt.ylabel(\"Cena\")\n",
    "plt.plot(x,y)\n",
    "\n",
    "plt.annotate(xy=[1,3.5],text=\"Rastieme\")\n",
    "plt.annotate(xy=[2,.9],text=\"Krachujeme\")\n",
    "plt.annotate(xy=[2.6,6],text=\"Rastieme brutalne\")\n"
   ]
  },
  {
   "cell_type": "code",
   "execution_count": null,
   "id": "165dc5d1",
   "metadata": {},
   "outputs": [],
   "source": []
  }
 ],
 "metadata": {
  "kernelspec": {
   "display_name": "Python 3 (ipykernel)",
   "language": "python",
   "name": "python3"
  },
  "language_info": {
   "codemirror_mode": {
    "name": "ipython",
    "version": 3
   },
   "file_extension": ".py",
   "mimetype": "text/x-python",
   "name": "python",
   "nbconvert_exporter": "python",
   "pygments_lexer": "ipython3",
   "version": "3.9.7"
  }
 },
 "nbformat": 4,
 "nbformat_minor": 5
}
