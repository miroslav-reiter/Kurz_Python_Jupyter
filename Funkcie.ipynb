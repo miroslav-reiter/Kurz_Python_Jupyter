{
 "cells": [
  {
   "cell_type": "markdown",
   "id": "settled-imaging",
   "metadata": {},
   "source": [
    "# Funkcie"
   ]
  },
  {
   "cell_type": "markdown",
   "id": "continental-overhead",
   "metadata": {},
   "source": [
    "Funkcia je pomenovaný blok príkazov (podprogram)"
   ]
  },
  {
   "cell_type": "code",
   "execution_count": null,
   "id": "canadian-settle",
   "metadata": {},
   "outputs": [],
   "source": [
    "def funkcia():\n",
    "    print(\"Ahoj!\")"
   ]
  },
  {
   "cell_type": "markdown",
   "id": "south-murder",
   "metadata": {},
   "source": [
    "Funkcia so vstupnými hodnotami (argumentami)"
   ]
  },
  {
   "cell_type": "code",
   "execution_count": null,
   "id": "latest-suspect",
   "metadata": {},
   "outputs": [],
   "source": [
    "a=\"Ahoj\"\n",
    "b=\"Milo\"\n",
    "def funkcia_s_argumentami(pozdrav,meno):\n",
    "    print(pozdrav + \", \" + meno + \"!\")"
   ]
  },
  {
   "cell_type": "markdown",
   "id": "sealed-concept",
   "metadata": {},
   "source": [
    "Funkcia s výstupnou hodnotou (return)"
   ]
  },
  {
   "cell_type": "code",
   "execution_count": null,
   "id": "ordered-hometown",
   "metadata": {},
   "outputs": [],
   "source": [
    "def funkcia_s_vystupom(a,b):\n",
    "    return a + b"
   ]
  }
 ],
 "metadata": {
  "kernelspec": {
   "display_name": "Python 3",
   "language": "python",
   "name": "python3"
  },
  "language_info": {
   "codemirror_mode": {
    "name": "ipython",
    "version": 3
   },
   "file_extension": ".py",
   "mimetype": "text/x-python",
   "name": "python",
   "nbconvert_exporter": "python",
   "pygments_lexer": "ipython3",
   "version": "3.6.8"
  }
 },
 "nbformat": 4,
 "nbformat_minor": 5
}
