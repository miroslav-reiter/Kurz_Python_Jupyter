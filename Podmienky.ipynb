{
 "cells": [
  {
   "cell_type": "markdown",
   "id": "rural-brighton",
   "metadata": {},
   "source": [
    "# Podmienky"
   ]
  },
  {
   "cell_type": "markdown",
   "id": "fallen-camcorder",
   "metadata": {},
   "source": [
    "Podmienené príkazy: ak sa splní podmienka, spustiť príkaz(y)"
   ]
  },
  {
   "cell_type": "code",
   "execution_count": 1,
   "id": "renewable-marriage",
   "metadata": {},
   "outputs": [
    {
     "name": "stdout",
     "output_type": "stream",
     "text": [
      "s1 je jedna\n"
     ]
    }
   ],
   "source": [
    "s1 = \"jedna\"\n",
    "\n",
    "if s1 == \"jedna\":\n",
    "    print(\"s1 je jedna\")"
   ]
  },
  {
   "cell_type": "markdown",
   "id": "fatal-blowing",
   "metadata": {},
   "source": [
    "Vetvenie: Ak, ináč"
   ]
  },
  {
   "cell_type": "code",
   "execution_count": 3,
   "id": "loose-burner",
   "metadata": {},
   "outputs": [
    {
     "ename": "IndentationError",
     "evalue": "expected an indented block (<ipython-input-3-4023685b8b77>, line 2)",
     "output_type": "error",
     "traceback": [
      "\u001b[0;36m  File \u001b[0;32m\"<ipython-input-3-4023685b8b77>\"\u001b[0;36m, line \u001b[0;32m2\u001b[0m\n\u001b[0;31m    print(\"s1 je jedna\")\u001b[0m\n\u001b[0m        ^\u001b[0m\n\u001b[0;31mIndentationError\u001b[0m\u001b[0;31m:\u001b[0m expected an indented block\n"
     ]
    }
   ],
   "source": [
    "if s1 == \"dva\":\n",
    "    print(\"s1 je jedna\")\n",
    "else:\n",
    "    print(\"s1 je nieco ine\")"
   ]
  },
  {
   "cell_type": "markdown",
   "id": "missing-cinema",
   "metadata": {},
   "source": [
    "Vnáranie podmienok"
   ]
  },
  {
   "cell_type": "code",
   "execution_count": 7,
   "id": "italian-travel",
   "metadata": {},
   "outputs": [
    {
     "name": "stdout",
     "output_type": "stream",
     "text": [
      "s1 je jedna1\n"
     ]
    }
   ],
   "source": [
    "s1 = 'jedna1'\n",
    "\n",
    "if s1 == \"jedna\":\n",
    "    print(\"s1 je jedna\")\n",
    "else:\n",
    "    if s1 == \"jedna1\":\n",
    "        print(\"s1 je jedna1\")\n",
    "    else:\n",
    "        print(\"s1 je nieco ine\")"
   ]
  },
  {
   "cell_type": "code",
   "execution_count": 9,
   "id": "greatest-pillow",
   "metadata": {},
   "outputs": [
    {
     "name": "stdout",
     "output_type": "stream",
     "text": [
      "s1 je jedna1\n"
     ]
    }
   ],
   "source": [
    "if s1 == \"jedna\":\n",
    "    print(\"s1 je jedna\")\n",
    "elif s1 == \"jedna1\":\n",
    "    print(\"s1 je jedna1\")\n",
    "else:\n",
    "    print(\"s1 je nieco ine\")"
   ]
  },
  {
   "cell_type": "code",
   "execution_count": null,
   "id": "convenient-quick",
   "metadata": {},
   "outputs": [],
   "source": []
  }
 ],
 "metadata": {
  "kernelspec": {
   "display_name": "Python 3",
   "language": "python",
   "name": "python3"
  },
  "language_info": {
   "codemirror_mode": {
    "name": "ipython",
    "version": 3
   },
   "file_extension": ".py",
   "mimetype": "text/x-python",
   "name": "python",
   "nbconvert_exporter": "python",
   "pygments_lexer": "ipython3",
   "version": "3.6.8"
  }
 },
 "nbformat": 4,
 "nbformat_minor": 5
}
