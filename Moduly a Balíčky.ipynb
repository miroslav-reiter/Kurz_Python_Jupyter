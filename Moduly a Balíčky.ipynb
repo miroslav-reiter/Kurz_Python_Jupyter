{
 "cells": [
  {
   "cell_type": "markdown",
   "id": "wicked-throw",
   "metadata": {},
   "source": [
    "# Moduly"
   ]
  },
  {
   "cell_type": "markdown",
   "id": "outstanding-doubt",
   "metadata": {},
   "source": [
    "Zoznam aktuálne nainštalovaných modulov"
   ]
  },
  {
   "cell_type": "code",
   "execution_count": null,
   "id": "coordinated-punishment",
   "metadata": {},
   "outputs": [],
   "source": [
    "help(\"modules\")"
   ]
  },
  {
   "cell_type": "markdown",
   "id": "floral-carbon",
   "metadata": {},
   "source": [
    "Import modulu"
   ]
  },
  {
   "cell_type": "code",
   "execution_count": null,
   "id": "chief-building",
   "metadata": {},
   "outputs": [],
   "source": [
    "import math"
   ]
  },
  {
   "cell_type": "markdown",
   "id": "stainless-rocket",
   "metadata": {},
   "source": [
    "Informácie o module"
   ]
  },
  {
   "cell_type": "code",
   "execution_count": null,
   "id": "brave-lawyer",
   "metadata": {},
   "outputs": [],
   "source": [
    "dir(math)"
   ]
  },
  {
   "cell_type": "markdown",
   "id": "magnetic-gallery",
   "metadata": {},
   "source": [
    "Príklad využitia"
   ]
  },
  {
   "cell_type": "code",
   "execution_count": null,
   "id": "martial-password",
   "metadata": {},
   "outputs": [],
   "source": [
    "math.sin(3.1415)"
   ]
  },
  {
   "cell_type": "markdown",
   "id": "small-harbor",
   "metadata": {},
   "source": [
    "Import časti modulu"
   ]
  },
  {
   "cell_type": "code",
   "execution_count": null,
   "id": "choice-ground",
   "metadata": {},
   "outputs": [],
   "source": [
    "from math import sin as sinus"
   ]
  },
  {
   "cell_type": "markdown",
   "id": "friendly-budapest",
   "metadata": {},
   "source": [
    "Import z balíčku (package - skupina modulov)"
   ]
  },
  {
   "cell_type": "code",
   "execution_count": null,
   "id": "alert-gilbert",
   "metadata": {},
   "outputs": [],
   "source": [
    "import zvuk.efekty.ozvena\n",
    "from zvuk.efekty import ozvena"
   ]
  }
 ],
 "metadata": {
  "kernelspec": {
   "display_name": "Python 3",
   "language": "python",
   "name": "python3"
  },
  "language_info": {
   "codemirror_mode": {
    "name": "ipython",
    "version": 3
   },
   "file_extension": ".py",
   "mimetype": "text/x-python",
   "name": "python",
   "nbconvert_exporter": "python",
   "pygments_lexer": "ipython3",
   "version": "3.6.8"
  }
 },
 "nbformat": 4,
 "nbformat_minor": 5
}
