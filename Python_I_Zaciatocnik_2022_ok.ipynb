{
 "cells": [
  {
   "cell_type": "markdown",
   "metadata": {},
   "source": [
    "# Kurz Python I. Začiatočník - 1. deň"
   ]
  },
  {
   "cell_type": "markdown",
   "metadata": {},
   "source": [
    "**Miroslav Reiter** | miroslav.reiter@it-academy.sk | https://www.linkedin.com/in/miroslav-reiter/   \n",
    "**Kurz Python** | https://www.it-academy.sk/kurz/python/ | https://github.com/miroslav-reiter"
   ]
  },
  {
   "cell_type": "markdown",
   "metadata": {},
   "source": [
    "# Komentáre, kódovanie, tlač a docstringy"
   ]
  },
  {
   "cell_type": "code",
   "execution_count": 97,
   "metadata": {},
   "outputs": [
    {
     "name": "stdout",
     "output_type": "stream",
     "text": [
      "Python je fajnovy jazyk!\n",
      "🖱️ 🎲 🔮\n",
      "Co bolo skorej? -->  🐔\n",
      "Toto je docstring (document string)\n"
     ]
    }
   ],
   "source": [
    "# -*- coding: utf-8 -*-\n",
    "# Toto je komentár (jednoriadkový)\n",
    "\"\"\"Toto je docstring (document string)\"\"\"\n",
    "\n",
    "# Pozor na nespravne zalomovanie riadku (Enter)\n",
    "# SyntaxError: EOL while scanning string literal\n",
    "# Emotikony https://emojipedia.org/\n",
    "print(\"Python je fajnovy jazyk!\") \n",
    "print(__doc__)\n",
    "print(\"🖱️ 🎲 🔮\")\n",
    "print(\"Co bolo skorej? --> \", min(['\\N{CHICKEN}', '\\N{EGG}']))\n"
   ]
  },
  {
   "cell_type": "markdown",
   "metadata": {},
   "source": [
    "# Premenné a typy"
   ]
  },
  {
   "cell_type": "code",
   "execution_count": 19,
   "metadata": {},
   "outputs": [
    {
     "name": "stdout",
     "output_type": "stream",
     "text": [
      "Milujem Python\n",
      "Milujem Python\n",
      "Milujem Python\n",
      "\n",
      "Nazov produktu je: Hypoteka pre mladych 2021\n",
      "Splatka vasej hypoteky je: 600 Eur\n",
      "Urokova sadzba je: 1.5 % p.a.\n",
      "Je k dispozicii: False\n",
      "<class 'bool'>\n",
      "<class 'str'>\n",
      "<class 'float'>\n",
      "<class 'int'>\n",
      "WTF is this (ಠ_ಠ) shit?\n"
     ]
    }
   ],
   "source": [
    "jeSkladom = False\n",
    "nazovProdukt = \"Hypoteka pre mladych\"\n",
    "urokovaSadzba = 0.015\n",
    "splatkaHypoteka = 600\n",
    "jazykProgramovaci = \"Python\"\n",
    "\n",
    "print(\"Milujem \" + jazykProgramovaci)\n",
    "print(\"Milujem {}\" .format(jazykProgramovaci))\n",
    "print(f\"Milujem {jazykProgramovaci}\")\n",
    "\n",
    "print(\"\\nNazov produktu je: \" + nazovProdukt + \" 2021\")\n",
    "print(\"Splatka vasej hypoteky je:\", splatkaHypoteka, \"Eur\")\n",
    "print(\"Urokova sadzba je:\", urokovaSadzba * 100,\"% p.a.\")\n",
    "print(\"Je k dispozicii:\", jeSkladom)\n",
    "\n",
    "print(type(jeSkladom))\n",
    "print(type(nazovProdukt))\n",
    "print(type(urokovaSadzba))\n",
    "print(type(splatkaHypoteka))\n",
    "\n",
    "# ┻━┻ ┬─┬ ლ(x) ಠ益ಠლ º_º\n",
    "ಠ_ಠ = \"WTF is this (ಠ_ಠ) shit?\"\n",
    "print(ಠ_ಠ)\n",
    "\n",
    "# 🎲_🎲 = \"Som hodil kockou\"\n",
    "# print(🎲_🎲)"
   ]
  },
  {
   "cell_type": "code",
   "execution_count": 77,
   "metadata": {},
   "outputs": [
    {
     "name": "stdout",
     "output_type": "stream",
     "text": [
      "Sucet 2+3 --> 5\n",
      "Rozdiel 5-3 --> 2\n",
      "Sucet -9+2 --> -7\n",
      "Nasobenie 5*2 --> 10\n",
      "Mocnina 2^5 --> 32\n",
      "Delenie (realne) 5/2 --> 2.5\n",
      "Delenie (celociselne) 5//2 --> 2\n",
      "Delenie (so zvyskom modulu) 5%2 --> 1\n"
     ]
    },
    {
     "data": {
      "text/plain": [
       "[10, 30, 40, 50]"
      ]
     },
     "execution_count": 77,
     "metadata": {},
     "output_type": "execute_result"
    }
   ],
   "source": [
    "print(\"Sucet 2+3 -->\", 2+3)\n",
    "print(\"Rozdiel 5-3 -->\", 5-3)\n",
    "print(\"Sucet -9+2 -->\", -9+2)\n",
    "print(\"Nasobenie 5*2 -->\", 5*2)\n",
    "print(\"Mocnina 2^5 -->\", 2**5)\n",
    "print(\"Delenie (realne) 5/2 -->\", 5/2)\n",
    "print(\"Delenie (celociselne) 5//2 -->\", 5//2)\n",
    "print(\"Delenie (so zvyskom modulo) 5%2 -->\", 5%2)\n",
    "# Zopakuj v konzole posledny prikaz _\n",
    "_"
   ]
  },
  {
   "cell_type": "markdown",
   "metadata": {},
   "source": [
    "# Definície (Funkcie)"
   ]
  },
  {
   "cell_type": "code",
   "execution_count": 95,
   "metadata": {},
   "outputs": [
    {
     "name": "stdout",
     "output_type": "stream",
     "text": [
      "Ahoj Karol \n",
      "\n",
      "Toto je docstring (document string)\n",
      "Nas subor __name__ je nastavený na -->  __main__\n",
      "File one __name__ je nastavený na --> __main__\n"
     ]
    }
   ],
   "source": [
    "def main():\n",
    "    \"\"\"Toto je nasa dokumentacia\"\"\"\n",
    "    print(\"Ahoj Karol \\n\")\n",
    "    \n",
    "    print(__doc__)\n",
    "    print(\"Nas subor __name__ je nastavený na --> \", format(__name__))\n",
    "    print(\"File one __name__ je nastavený na --> {}\" .format(__name__))\n",
    "\n",
    "main()    \n",
    "    \n",
    "# if __name__ == __main__:\n",
    "#    main()\n"
   ]
  },
  {
   "cell_type": "markdown",
   "metadata": {},
   "source": [
    "# Modul sys (System)"
   ]
  },
  {
   "cell_type": "code",
   "execution_count": 86,
   "metadata": {},
   "outputs": [
    {
     "name": "stdout",
     "output_type": "stream",
     "text": [
      "Verzia Python --> 3.8.5 (default, Sep  3 2020, 21:29:08) [MSC v.1916 64 bit (AMD64)]\n",
      "Pouzivana platforma --> win32\n",
      "Ako velkost ma integer (4 byty) --> 4\n",
      "Float maximálny počet desatinných číslic, ktoré sa dá verne znázorniť --> 15\n",
      "Float max --> 1.7976931348623157e+308\n",
      "Float min --> 2.2250738585072014e-308\n",
      "Ako velkost ma integer (4 byty) --> 2.220446049250313e-16\n",
      "Verzia Python --> namespace(cache_tag='cpython-38', hexversion=50857456, name='cpython', version=sys.version_info(major=3, minor=8, micro=5, releaselevel='final', serial=0)) \n",
      "\n",
      "Zname cesty --> ['C:\\\\Users\\\\miros\\\\! Python Projekty', 'C:\\\\ProgramData\\\\Anaconda3\\\\python38.zip', 'C:\\\\ProgramData\\\\Anaconda3\\\\DLLs', 'C:\\\\ProgramData\\\\Anaconda3\\\\lib', 'C:\\\\ProgramData\\\\Anaconda3', '', 'C:\\\\ProgramData\\\\Anaconda3\\\\lib\\\\site-packages', 'C:\\\\ProgramData\\\\Anaconda3\\\\lib\\\\site-packages\\\\win32', 'C:\\\\ProgramData\\\\Anaconda3\\\\lib\\\\site-packages\\\\win32\\\\lib', 'C:\\\\ProgramData\\\\Anaconda3\\\\lib\\\\site-packages\\\\Pythonwin', 'C:\\\\ProgramData\\\\Anaconda3\\\\lib\\\\site-packages\\\\IPython\\\\extensions', 'C:\\\\Users\\\\miros\\\\.ipython'] \n",
      "\n",
      "Aktualne pouzivana verzia Windows --> 10\n",
      "Aktualne pouzivana verzia Windows --> 10\n"
     ]
    }
   ],
   "source": [
    "import sys\n",
    "# Dokumentacia https://docs.python.org/3/library/sys.html\n",
    "# Nezabudni na import sys\n",
    "# Inak NameError: name 'sys' is not defined\n",
    "\n",
    "print(\"Verzia Python -->\", sys.version)\n",
    "print(\"Pouzivana platforma -->\", sys.platform)\n",
    "print(\"Ako velkost ma integer (4 byty) -->\", sys.int_info.sizeof_digit)\n",
    "print(\"Float maximálny počet desatinných číslic, ktoré sa dá verne znázorniť -->\", sys.float_info.dig)\n",
    "print(\"Float max -->\", sys.float_info.max)\n",
    "print(\"Float min -->\", sys.float_info.min)\n",
    "print(\"Ako velkost ma integer (4 byty) -->\", sys.float_info.epsilon)\n",
    "print(\"Verzia Python -->\", sys.implementation, \"\\n\")\n",
    "print(\"Zname cesty -->\", sys.path, \"\\n\")\n",
    "\n",
    "# Ako zistime aku verziu Microsoft Windows pouzivame\n",
    "print(\"Aktualne pouzivana verzia Windows -->\", sys.getwindowsversion()[0])\n",
    "print(\"Aktualne pouzivana verzia Windows -->\", sys.getwindowsversion().major)"
   ]
  },
  {
   "cell_type": "markdown",
   "metadata": {},
   "source": [
    "# Modul random (Náhoda)"
   ]
  },
  {
   "cell_type": "code",
   "execution_count": 62,
   "metadata": {},
   "outputs": [
    {
     "name": "stdout",
     "output_type": "stream",
     "text": [
      "0.7125715692799892\n",
      "40.50266677286437\n",
      "14\n",
      "6\n",
      "2\n",
      "2\n",
      "vyhra\n",
      "['dolnik', 'kralovna', 'kral', 'eso']\n"
     ]
    }
   ],
   "source": [
    "import random\n",
    "import math\n",
    "# https://docs.python.org/3/library/random.html\n",
    "# Nezabudni na import random a math\n",
    "# Inak NameError: name 'math' is not defined\n",
    "# Pseudonáhodné generátory tohto modulu by sa nemali používať na bezpečnostné účely. \n",
    "# Informácie o zabezpečení alebo kryptografickom použití nájdete v module secrets.\n",
    "\n",
    "# 0.0 <= x < 1.0\n",
    "print(random.random())\n",
    "\n",
    "# 0 <= x <= 100\n",
    "# Normalne rozdelenie Gaussovka\n",
    "print(random.uniform(0,100))\n",
    "print(math.floor(random.uniform(0,100)))\n",
    "\n",
    "print(random.randint(1,6))\n",
    "\n",
    "# Integer from 0 to 6 inkluzivne\n",
    "print(random.randrange(6))\n",
    "print(random.randrange(1,6))\n",
    "print(random.choice(['vyhra', 'prehra', 'remiza']))\n",
    "\n",
    "# Rozdelujeme a miesame\n",
    "balicek_karty = 'eso kral kralovna dolnik'.split()\n",
    "random.shuffle(balicek_karty)\n",
    "print(balicek_karty)\n"
   ]
  },
  {
   "cell_type": "markdown",
   "metadata": {},
   "source": [
    "# PIP a import modulov"
   ]
  },
  {
   "cell_type": "code",
   "execution_count": 17,
   "metadata": {},
   "outputs": [
    {
     "name": "stdout",
     "output_type": "stream",
     "text": [
      "  __________\n",
      "| Ahoj Karol |\n",
      "  ==========\n",
      "                  \\\n",
      "                   \\\n",
      "                    \\\n",
      "                     \\\n",
      "                      /- _  `-/  '\n",
      "                     (/\\/ \\ \\   /\\\n",
      "                     / /   | `    \\\n",
      "                     O O   ) /    |\n",
      "                     `-^--'`<     '\n",
      "                    (_.)  _  )   /\n",
      "                     `.___/`    /\n",
      "                       `-----' /\n",
      "          <----.     __ / __   \\\n",
      "          <----|====O)))==) \\) /====\n",
      "          <----'    `--' `.__,' \\\n",
      "                       |        |\n",
      "                        \\       /\n",
      "                  ______( (_  / \\______\n",
      "                ,'  ,-----'   |        \\\n",
      "                `--{__________)        \\/\n",
      "  _________\n",
      "| Ahoj Fero |\n",
      "  =========\n",
      "              \\\n",
      "               \\\n",
      "                \\\n",
      "                      _------~~-,\n",
      "                   ,'            ,\n",
      "                   /               \\\\\n",
      "                  /                :\n",
      "                 |                  '\n",
      "                 |                  |\n",
      "                 |                  |\n",
      "                  |   _--           |\n",
      "                  _| =-.     .-.   ||\n",
      "                  o|/o/       _.   |\n",
      "                  /  ~          \\\\ |\n",
      "                (____\\@)  ___~    |\n",
      "                   |_===~~~.`    |\n",
      "                _______.--~     |\n",
      "                \\\\________       |\n",
      "                         \\\\      |\n",
      "                       __/-___-- -__\n",
      "                      /            _ \\\\\n",
      "                      \n",
      "  __________\n",
      "| Ahoj Peter |\n",
      "  ==========\n",
      "            \\\n",
      "             \\\n",
      "              \\\n",
      "               \\\n",
      "                                     / \\\\  //\\\\\n",
      "                      |\\\\___/|      /   \\\\//  \\\\\\\\\n",
      "                      /0  0  \\\\__  /    //  | \\\\ \\\\\n",
      "                     /     /  \\\\/_/    //   |  \\\\  \\\\\n",
      "                     \\@_^_\\@'/   \\\\/_   //    |   \\\\   \\\\\n",
      "                     //_^_/     \\\\/_ //     |    \\\\    \\\\\n",
      "                  ( //) |        \\\\///      |     \\\\     \\\\\n",
      "                ( / /) _|_ /   )  //       |      \\\\     _\\\\\n",
      "              ( // /) '/,_ _ _/  ( ; -.    |    _ _\\\\.-~        .-~~~^-.\n",
      "            (( / / )) ,-{        _      `-.|.-~-.           .~         `.\n",
      "           (( // / ))  '/\\\\      /                 ~-. _ .-~      .-~^-.  \\\\\n",
      "           (( /// ))      `.   {            }                   /      \\\\  \\\\\n",
      "            (( / ))     .----~-.\\\\        \\\\-'                 .~         \\\\  `. \\\\^-.\n",
      "                       ///.----..>        \\\\             _ -~             `.  ^-`  ^-_\n",
      "                         ///-._ _ _ _ _ _ _}^ - - - - ~                     ~-- ,.-~\n",
      "                                                                            /.-~\n",
      "  __________\n",
      "| Ahoj Karol |\n",
      "  ==========\n",
      "                  \\\n",
      "                   \\\n",
      "                    \\\n",
      "                     \\\n",
      "                                 __---__\n",
      "                              _-       /--______\n",
      "                         __--( /     \\ )XXXXXXXXXXX\\v.\n",
      "                       .-XXX(   O   O  )XXXXXXXXXXXXXXX-\n",
      "                      /XXX(       U     )        XXXXXXX\\\n",
      "                    /XXXXX(              )--_  XXXXXXXXXXX\\\n",
      "                   /XXXXX/ (      O     )   XXXXXX   \\XXXXX\\\n",
      "                   XXXXX/   /            XXXXXX   \\__ \\XXXXX\n",
      "                   XXXXXX__/          XXXXXX         \\__---->\n",
      "           ---___  XXX__/          XXXXXX      \\__         /\n",
      "             \\-  --__/   ___/\\  XXXXXX            /  ___--/=\n",
      "              \\-\\    ___/    XXXXXX              '--- XXXXXX\n",
      "                 \\-\\/XXX\\ XXXXXX                      /XXXXX\n",
      "                   \\XXXXXXXXX   \\                    /XXXXX/\n",
      "                    \\XXXXXX      >                 _/XXXXX/\n",
      "                      \\XXXXX--__/              __-- XXXX/\n",
      "                       -XXXXXXXX---------------  XXXXXX-\n",
      "                          \\XXXXXXXXXXXXXXXXXXXXXXXXXX/\n",
      "                            \"\"VXXXXXXXXXXXXXXXXXXV\"\"\n"
     ]
    }
   ],
   "source": [
    "#!pip install cowsay\n",
    "import cowsay\n",
    "cowsay.daemon(\"Ahoj Karol\")\n",
    "cowsay.beavis(\"Ahoj Fero\")\n",
    "cowsay.dragon(\"Ahoj Peter\")\n",
    "cowsay.ghostbusters(\"Ahoj Laco\")"
   ]
  },
  {
   "cell_type": "code",
   "execution_count": 25,
   "metadata": {},
   "outputs": [
    {
     "ename": "InvalidArgumentException",
     "evalue": "Login error: User itacademysk does not exist.",
     "output_type": "error",
     "traceback": [
      "\u001b[1;31m---------------------------------------------------------------------------\u001b[0m",
      "\u001b[1;31mInvalidArgumentException\u001b[0m                  Traceback (most recent call last)",
      "\u001b[1;32m<ipython-input-25-147bedf8ebf0>\u001b[0m in \u001b[0;36m<module>\u001b[1;34m\u001b[0m\n\u001b[0;32m      3\u001b[0m \u001b[1;32mimport\u001b[0m \u001b[0minstaloader\u001b[0m\u001b[1;33m\u001b[0m\u001b[1;33m\u001b[0m\u001b[0m\n\u001b[0;32m      4\u001b[0m \u001b[0mL\u001b[0m \u001b[1;33m=\u001b[0m \u001b[0minstaloader\u001b[0m\u001b[1;33m.\u001b[0m\u001b[0mInstaloader\u001b[0m\u001b[1;33m(\u001b[0m\u001b[1;33m)\u001b[0m\u001b[1;33m\u001b[0m\u001b[1;33m\u001b[0m\u001b[0m\n\u001b[1;32m----> 5\u001b[1;33m \u001b[0mL\u001b[0m\u001b[1;33m.\u001b[0m\u001b[0mlogin\u001b[0m\u001b[1;33m(\u001b[0m\u001b[1;34m\"itacademysk\"\u001b[0m\u001b[1;33m,\u001b[0m\u001b[1;34m\"password\"\u001b[0m\u001b[1;33m)\u001b[0m\u001b[1;33m\u001b[0m\u001b[1;33m\u001b[0m\u001b[0m\n\u001b[0m\u001b[0;32m      6\u001b[0m \u001b[0mig\u001b[0m \u001b[1;33m=\u001b[0m \u001b[0minstaloader\u001b[0m\u001b[1;33m.\u001b[0m\u001b[0mprofile\u001b[0m\u001b[1;33m.\u001b[0m\u001b[0mfrom_username\u001b[0m\u001b[1;33m(\u001b[0m\u001b[0mL\u001b[0m\u001b[1;33m.\u001b[0m\u001b[0mcontext\u001b[0m\u001b[1;33m,\u001b[0m \u001b[1;34m\"itacademysk\"\u001b[0m\u001b[1;33m)\u001b[0m\u001b[1;33m\u001b[0m\u001b[1;33m\u001b[0m\u001b[0m\n\u001b[0;32m      7\u001b[0m \u001b[0mprint\u001b[0m\u001b[1;33m(\u001b[0m\u001b[1;34mf\"itacademysk ID --> {ig.userid}\"\u001b[0m\u001b[1;33m)\u001b[0m\u001b[1;33m\u001b[0m\u001b[1;33m\u001b[0m\u001b[0m\n",
      "\u001b[1;32mC:\\ProgramData\\Anaconda3\\lib\\site-packages\\instaloader\\instaloader.py\u001b[0m in \u001b[0;36mlogin\u001b[1;34m(self, user, passwd)\u001b[0m\n\u001b[0;32m    599\u001b[0m         \u001b[1;33m:\u001b[0m\u001b[0mraises\u001b[0m \u001b[0mTwoFactorAuthRequiredException\u001b[0m\u001b[1;33m:\u001b[0m \u001b[0mFirst\u001b[0m \u001b[0mstep\u001b[0m \u001b[0mof\u001b[0m \u001b[1;36m2\u001b[0m\u001b[0mFA\u001b[0m \u001b[0mlogin\u001b[0m \u001b[0mdone\u001b[0m\u001b[1;33m,\u001b[0m \u001b[0mnow\u001b[0m \u001b[0mcall\u001b[0m\u001b[1;33m\u001b[0m\u001b[1;33m\u001b[0m\u001b[0m\n\u001b[0;32m    600\u001b[0m            :meth:`Instaloader.two_factor_login`.\"\"\"\n\u001b[1;32m--> 601\u001b[1;33m         \u001b[0mself\u001b[0m\u001b[1;33m.\u001b[0m\u001b[0mcontext\u001b[0m\u001b[1;33m.\u001b[0m\u001b[0mlogin\u001b[0m\u001b[1;33m(\u001b[0m\u001b[0muser\u001b[0m\u001b[1;33m,\u001b[0m \u001b[0mpasswd\u001b[0m\u001b[1;33m)\u001b[0m\u001b[1;33m\u001b[0m\u001b[1;33m\u001b[0m\u001b[0m\n\u001b[0m\u001b[0;32m    602\u001b[0m \u001b[1;33m\u001b[0m\u001b[0m\n\u001b[0;32m    603\u001b[0m     \u001b[1;32mdef\u001b[0m \u001b[0mtwo_factor_login\u001b[0m\u001b[1;33m(\u001b[0m\u001b[0mself\u001b[0m\u001b[1;33m,\u001b[0m \u001b[0mtwo_factor_code\u001b[0m\u001b[1;33m)\u001b[0m \u001b[1;33m->\u001b[0m \u001b[1;32mNone\u001b[0m\u001b[1;33m:\u001b[0m\u001b[1;33m\u001b[0m\u001b[1;33m\u001b[0m\u001b[0m\n",
      "\u001b[1;32mC:\\ProgramData\\Anaconda3\\lib\\site-packages\\instaloader\\instaloadercontext.py\u001b[0m in \u001b[0;36mlogin\u001b[1;34m(self, user, passwd)\u001b[0m\n\u001b[0;32m    261\u001b[0m                 \u001b[1;31m# triggers re-asking of password in Instaloader.interactive_login(), which makes no sense if the\u001b[0m\u001b[1;33m\u001b[0m\u001b[1;33m\u001b[0m\u001b[1;33m\u001b[0m\u001b[0m\n\u001b[0;32m    262\u001b[0m                 \u001b[1;31m# username is invalid.\u001b[0m\u001b[1;33m\u001b[0m\u001b[1;33m\u001b[0m\u001b[1;33m\u001b[0m\u001b[0m\n\u001b[1;32m--> 263\u001b[1;33m                 \u001b[1;32mraise\u001b[0m \u001b[0mInvalidArgumentException\u001b[0m\u001b[1;33m(\u001b[0m\u001b[1;34m'Login error: User {} does not exist.'\u001b[0m\u001b[1;33m.\u001b[0m\u001b[0mformat\u001b[0m\u001b[1;33m(\u001b[0m\u001b[0muser\u001b[0m\u001b[1;33m)\u001b[0m\u001b[1;33m)\u001b[0m\u001b[1;33m\u001b[0m\u001b[1;33m\u001b[0m\u001b[0m\n\u001b[0m\u001b[0;32m    264\u001b[0m         \u001b[1;31m# '{\"authenticated\": true, \"user\": true, \"userId\": ..., \"oneTapPrompt\": false, \"status\": \"ok\"}'\u001b[0m\u001b[1;33m\u001b[0m\u001b[1;33m\u001b[0m\u001b[1;33m\u001b[0m\u001b[0m\n\u001b[0;32m    265\u001b[0m         \u001b[0msession\u001b[0m\u001b[1;33m.\u001b[0m\u001b[0mheaders\u001b[0m\u001b[1;33m.\u001b[0m\u001b[0mupdate\u001b[0m\u001b[1;33m(\u001b[0m\u001b[1;33m{\u001b[0m\u001b[1;34m'X-CSRFToken'\u001b[0m\u001b[1;33m:\u001b[0m \u001b[0mlogin\u001b[0m\u001b[1;33m.\u001b[0m\u001b[0mcookies\u001b[0m\u001b[1;33m[\u001b[0m\u001b[1;34m'csrftoken'\u001b[0m\u001b[1;33m]\u001b[0m\u001b[1;33m}\u001b[0m\u001b[1;33m)\u001b[0m\u001b[1;33m\u001b[0m\u001b[1;33m\u001b[0m\u001b[0m\n",
      "\u001b[1;31mInvalidArgumentException\u001b[0m: Login error: User itacademysk does not exist."
     ]
    }
   ],
   "source": [
    "# Ako zistit instagram ID pouzivatela\n",
    "# !pip install instaloader \n",
    "import instaloader\n",
    "L = instaloader.Instaloader()\n",
    "L.login(\"itacademysk\",\"password\")\n",
    "ig = instaloader.profile.from_username(L.context, \"itacademysk\")\n",
    "print(f\"itacademysk ID --> {ig.userid}\")"
   ]
  },
  {
   "cell_type": "markdown",
   "metadata": {},
   "source": [
    "# Štruktúra If"
   ]
  },
  {
   "cell_type": "code",
   "execution_count": 10,
   "metadata": {},
   "outputs": [
    {
     "name": "stdout",
     "output_type": "stream",
     "text": [
      "Bez znakov\n"
     ]
    }
   ],
   "source": [
    "s = \"\"\n",
    "if not s:\n",
    "    print(\"Bez znakov\")\n",
    "else:\n",
    "    print(\"Ma znaky\")"
   ]
  },
  {
   "cell_type": "markdown",
   "metadata": {},
   "source": [
    "# Cyklus for"
   ]
  },
  {
   "cell_type": "code",
   "execution_count": 8,
   "metadata": {},
   "outputs": [
    {
     "name": "stdout",
     "output_type": "stream",
     "text": [
      "Postupnost cisla 0-4: \n",
      "0\n",
      "1\n",
      "2\n",
      "3\n",
      "4\n",
      "\n",
      "Postupnost cisla 4-0: \n",
      "4\n",
      "3\n",
      "2\n",
      "1\n",
      "0\n",
      "\n",
      "Postupnost znaky a oddelovac medzera: \n",
      "👆 👇 👈 👉 👊 👋 👌 👍 👎 "
     ]
    }
   ],
   "source": [
    "print(\"Postupnost cisla 0-4: \")\n",
    "for i in range(5):\n",
    "    print(i)\n",
    "\n",
    "print(\"\\nPostupnost cisla 4-0: \")\n",
    "for i in reversed(range(5)):\n",
    "    print(i)\n",
    "\n",
    "print(\"\\nPostupnost znaky a oddelovac medzera: \")\n",
    "for i in range(128070, 128079):\n",
    "    print(chr(i), end = \" \")\n",
    "    "
   ]
  },
  {
   "cell_type": "markdown",
   "metadata": {},
   "source": [
    "# Virtuálne prostredie venv"
   ]
  },
  {
   "cell_type": "code",
   "execution_count": null,
   "metadata": {},
   "outputs": [],
   "source": [
    "# 1. Vytvorte virtuálne prostredie\n",
    "# Otvorte adresár, v ktorom chcete vytvoriť svoj projekt. Otvorte CMD/PowerShell a prejdite do rovnakého adresára a spustite nasledujúce príkazy na vytvorenie virtuálneho prostredia.\n",
    "python -m venv venv\n",
    "\n",
    "# 2. Aktivujte virtuálne prostredie\n",
    "# Teraz, keď máme naše virtuálne prostredie, poďme ho aktivovať.\n",
    "venv\\Scripts\\activate\n",
    "\n",
    "# 3. Nainštalujte jadro Jupyter pre virtuálne prostredie pomocou nasledujúceho príkazu.\n",
    "# Spustenie nasledujúceho príkazu vytvorí jadro, ktoré možno použiť na spustenie príkazov notebooku Jupyter vo virtuálnom prostredí.\n",
    "ipython kernel install --user --name=venv\n",
    "\n",
    "# 4. Ak chcete v tomto virtuálnom prostredí používať Jupyter notebook, vyberte nainštalované jadro.\n",
    "# Skontrolujeme, či je naše jadro vytvorené. Stačí spustiť príkaz „jupyter notebook“ v príkazovom riadku alebo Powershell a otvorí sa prostredie jupyter. Kliknite na jadro a kliknite na Zmeniť jadro, budete môcť vidieť jadro, ktoré ste práve vytvorili.\n",
    "\n",
    "# Teraz môžete vidieť, že máte jadro v zozname jadier a teraz môžete mať samostatné závislosti pre notebook jupyter a byť organizovanejší. Keď skončíte s projektom a jadro už nepotrebujete, môžete ho odinštalovať spustením nasledujúceho kódu:\n",
    "\n",
    "jupyter-kernelspec unistall venv"
   ]
  }
 ],
 "metadata": {
  "kernelspec": {
   "display_name": "Python 3",
   "language": "python",
   "name": "python3"
  },
  "language_info": {
   "codemirror_mode": {
    "name": "ipython",
    "version": 3
   },
   "file_extension": ".py",
   "mimetype": "text/x-python",
   "name": "python",
   "nbconvert_exporter": "python",
   "pygments_lexer": "ipython3",
   "version": "3.8.5"
  }
 },
 "nbformat": 4,
 "nbformat_minor": 4
}
