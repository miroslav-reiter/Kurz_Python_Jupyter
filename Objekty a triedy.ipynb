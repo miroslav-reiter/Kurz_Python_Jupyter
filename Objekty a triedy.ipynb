{
 "cells": [
  {
   "cell_type": "markdown",
   "id": "exterior-campus",
   "metadata": {},
   "source": [
    "## Objekty a triedy"
   ]
  },
  {
   "cell_type": "markdown",
   "id": "indonesian-fleece",
   "metadata": {},
   "source": [
    "Objekty sú inštanciami tried"
   ]
  },
  {
   "cell_type": "code",
   "execution_count": null,
   "id": "handmade-proxy",
   "metadata": {},
   "outputs": [],
   "source": [
    "class MyClass:\n",
    "    variable = \"blah\"\n",
    "    def function(self) :\n",
    "        print(\"This is a message inside the class.\")"
   ]
  },
  {
   "cell_type": "code",
   "execution_count": null,
   "id": "color-certificate",
   "metadata": {},
   "outputs": [],
   "source": [
    "myobjectx = MyClass()\n",
    "myobjecty = MyClass()"
   ]
  },
  {
   "cell_type": "code",
   "execution_count": null,
   "id": "royal-rapid",
   "metadata": {},
   "outputs": [],
   "source": [
    "myobjecty.variable = \"yackity\"\n",
    "print(myobjectx.variable)\n",
    "print(myobjecty.variable)"
   ]
  },
  {
   "cell_type": "code",
   "execution_count": null,
   "id": "israeli-analysis",
   "metadata": {},
   "outputs": [],
   "source": [
    "myobjectx.function()\n",
    "myobjecty.function()"
   ]
  }
 ],
 "metadata": {
  "kernelspec": {
   "display_name": "Python 3",
   "language": "python",
   "name": "python3"
  },
  "language_info": {
   "codemirror_mode": {
    "name": "ipython",
    "version": 3
   },
   "file_extension": ".py",
   "mimetype": "text/x-python",
   "name": "python",
   "nbconvert_exporter": "python",
   "pygments_lexer": "ipython3",
   "version": "3.6.8"
  }
 },
 "nbformat": 4,
 "nbformat_minor": 5
}
